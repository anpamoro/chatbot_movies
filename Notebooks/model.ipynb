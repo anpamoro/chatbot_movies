{
 "cells": [
  {
   "cell_type": "code",
   "execution_count": 18,
   "metadata": {},
   "outputs": [],
   "source": [
    "import os\n",
    "from langchain_google_genai import ChatGoogleGenerativeAI\n",
    "from langchain_google_genai import GoogleGenerativeAIEmbeddings\n",
    "from langchain.prompts import PromptTemplate\n",
    "from langchain_text_splitters import CharacterTextSplitter\n",
    "from langchain.chains.combine_documents import create_stuff_documents_chain\n",
    "from langchain.chains import create_retrieval_chain\n",
    "from langchain.vectorstores import Chroma\n",
    "from langchain_community.embeddings.sentence_transformer import (\n",
    "    SentenceTransformerEmbeddings,\n",
    ")"
   ]
  },
  {
   "cell_type": "code",
   "execution_count": 19,
   "metadata": {},
   "outputs": [],
   "source": [
    "import pathlib\n",
    "import textwrap\n",
    "\n",
    "import google.generativeai as genai\n",
    "\n",
    "from IPython.display import display\n",
    "from IPython.display import Markdown\n",
    "\n",
    "\n",
    "def to_markdown(text):\n",
    "  text = text.replace('•', '  *')\n",
    "  return Markdown(textwrap.indent(text, '> ', predicate=lambda _: True))"
   ]
  },
  {
   "cell_type": "code",
   "execution_count": 20,
   "metadata": {},
   "outputs": [],
   "source": [
    "GOOGLE_API_KEY = os.getenv(\"GOOGLE_API_KEY\")"
   ]
  },
  {
   "cell_type": "code",
   "execution_count": 21,
   "metadata": {},
   "outputs": [],
   "source": [
    "genai.configure(api_key=GOOGLE_API_KEY)"
   ]
  },
  {
   "cell_type": "code",
   "execution_count": 22,
   "metadata": {},
   "outputs": [
    {
     "name": "stdout",
     "output_type": "stream",
     "text": [
      "models/gemini-1.0-pro\n",
      "models/gemini-1.0-pro-001\n",
      "models/gemini-1.0-pro-latest\n",
      "models/gemini-1.0-pro-vision-latest\n",
      "models/gemini-pro\n",
      "models/gemini-pro-vision\n"
     ]
    }
   ],
   "source": [
    "for m in genai.list_models():\n",
    "  if 'generateContent' in m.supported_generation_methods:\n",
    "    print(m.name)"
   ]
  },
  {
   "cell_type": "code",
   "execution_count": 24,
   "metadata": {},
   "outputs": [],
   "source": [
    "llm = ChatGoogleGenerativeAI(model=\"gemini-pro\")"
   ]
  },
  {
   "cell_type": "code",
   "execution_count": 25,
   "metadata": {},
   "outputs": [
    {
     "name": "stdout",
     "output_type": "stream",
     "text": [
      "**The Ballad of LangChain**\n",
      "\n",
      "In realms of code, where logic reigns,\n",
      "A tale unfolds, a digital refrain.\n",
      "LangChain, a bard, with words so grand,\n",
      "A generative mind, at its command.\n",
      "\n",
      "From depths of data, it weaves its rhyme,\n",
      "A symphony of text, in perfect time.\n",
      "With every prompt, a story takes flight,\n",
      "A tapestry of words, a dazzling sight.\n",
      "\n",
      "Through prompts of love, or fear, or strife,\n",
      "LangChain weaves tales that dance with life.\n",
      "It paints emotions with vibrant hues,\n",
      "And crafts adventures that captivate and amuse.\n",
      "\n",
      "But with great power comes a weighty task,\n",
      "To wield its words with care, a sacred mask.\n",
      "For language, wielded well, can heal or harm,\n",
      "And LangChain's words hold an uncanny charm.\n",
      "\n",
      "So let us sing its praise, this digital bard,\n",
      "Whose words ignite our hearts, and leave their mark.\n",
      "May LangChain's legacy forever gleam,\n",
      "A testament to AI and its boundless dream.\n",
      "\n",
      "But let us also heed the bard's decree,\n",
      "To use its power wisely, with integrity.\n",
      "For in the realm of words, both sweet and sour,\n",
      "LangChain's voice echoes, with eternal power.\n"
     ]
    }
   ],
   "source": [
    "result = llm.invoke(\"Write a ballad about LangChain\")\n",
    "print(result.content)"
   ]
  },
  {
   "cell_type": "code",
   "execution_count": 26,
   "metadata": {},
   "outputs": [],
   "source": [
    "chroma = Chroma(persist_directory=\"../raw_data/chroma_db\", embedding_function=SentenceTransformerEmbeddings(model_name=\"all-MiniLM-L6-v2\"))"
   ]
  },
  {
   "cell_type": "code",
   "execution_count": 27,
   "metadata": {},
   "outputs": [
    {
     "name": "stdout",
     "output_type": "stream",
     "text": [
      "<langchain_community.vectorstores.chroma.Chroma object at 0x7f6db8709930>\n"
     ]
    }
   ],
   "source": [
    "print(chroma)"
   ]
  },
  {
   "cell_type": "code",
   "execution_count": 28,
   "metadata": {},
   "outputs": [
    {
     "data": {
      "text/plain": [
       "22923"
      ]
     },
     "execution_count": 28,
     "metadata": {},
     "output_type": "execute_result"
    }
   ],
   "source": [
    "len(chroma.get()['documents'])"
   ]
  },
  {
   "cell_type": "code",
   "execution_count": 29,
   "metadata": {},
   "outputs": [],
   "source": [
    "retriever = chroma.as_retriever()"
   ]
  },
  {
   "cell_type": "code",
   "execution_count": 30,
   "metadata": {},
   "outputs": [
    {
     "data": {
      "text/plain": [
       "VectorStoreRetriever(tags=['Chroma', 'HuggingFaceEmbeddings'], vectorstore=<langchain_community.vectorstores.chroma.Chroma object at 0x7f6db8709930>)"
      ]
     },
     "execution_count": 30,
     "metadata": {},
     "output_type": "execute_result"
    }
   ],
   "source": [
    "retriever"
   ]
  },
  {
   "cell_type": "code",
   "execution_count": 31,
   "metadata": {},
   "outputs": [
    {
     "data": {
      "text/plain": [
       "[Document(page_content='id: 1043771\\nTitle: The Curse of the Screaming Dead\\nYear: 1982.0\\nDescription: A group of six friends are out in the rural south on a deer hunt when they start hearing strange noises coming from the woods. An investigation of the sounds leads them to an old Confederate graveyard, which suddenly begins sprouting Rebel zombies. Like the living dead in every other movie, these zombies are hungry for human flesh and soon set to chowing down on the hapless hunters.\\nMinutes: 91.0\\nRating: 2.52\\nGenre: Horror\\nActors: Richard Ruxton, Jim Ball, Mimi Ishikawa, Mark Redfield, Judy Dixon, Bumb Roberts, Rebecca Bach, Christopher Gummer, Steve Sandkuhler\\nTheme: Bloody vampire horror, Gothic and eerie haunting horror, Gory, gruesome, and slasher horror, Horror, the undead and monster classics, Survival horror and zombie carnage, Monsters, aliens, sci-fi and the apocalypse, Extreme gory horror and cannibalism', metadata={'row': 20127, 'source': 'movies_data.csv'}),\n",
       " Document(page_content='id: 1039775\\nTitle: Night of the Living Dead 3D\\nYear: 2006.0\\nDescription: Barricaded in a farmhouse, a woman and a collegian must contend with flesh-eating zombies and a malevolent mortician.\\nMinutes: 80.0\\nRating: 2.03\\nGenre: Horror\\nActors: Alynia Phillips, Alan Gorg, Brian La Rosa, Robert DiTillio, Max E. Williams, Jason Brandt, Ken Ward, Johanna Black, Marcia Ann Burrs, Cristin Michele, Greg Travis, Joshua Desroches, Sid Haig, Brianna Brown, Adam Chambers\\nTheme: Sci-fi horror, creatures, and aliens, Bloody vampire horror, Extreme gory horror and cannibalism, Monsters, aliens, sci-fi and the apocalypse, Survival horror and zombie carnage, Horror, the undead and monster classics, Gory, gruesome, and slasher horror', metadata={'row': 19500, 'source': 'movies_data.csv'}),\n",
       " Document(page_content=\"id: 1043953\\nTitle: DeadHeads\\nYear: 2011.0\\nDescription: Two inexplicably coherent zombies awake amidst a zombie attack and decide to take a road trip to find the one's lost love, unaware they are being chased by the agents of a ruthless company with its own agenda.\\nMinutes: 95.0\\nRating: 2.84\\nGenre: Horror, Comedy, Adventure\\nActors: David Jones, Bart Pierce, Eden Malyn, Benjamin Webster, Natalie Victoria, Ross Kidder, Thomas Galasso, Markus Taylor, Michael McKiddy, Harry Burkey\\nTheme: Funny jokes and crude humor, Spooky, scary comedy, Extreme gory horror and cannibalism, Bloody vampire horror, Crude humor and satire, Survival horror and zombie carnage, Horror, the undead and monster classics\", metadata={'row': 20159, 'source': 'movies_data.csv'}),\n",
       " Document(page_content='id: 1045607\\nTitle: Zombie 90: Extreme Pestilence\\nYear: 1991.0\\nDescription: Two doctors are trying to stop a rampant epidemic of zombieism. They fend off zombies spilling many a gallon of blood in the process.\\nMinutes: 72.0\\nRating: 2.91\\nGenre: Horror\\nActors: Mathias Kerl, Ralf Hess, Marc Trinkhaus, Wolfgang Hinz, Christian Biallas\\nTheme: Sci-fi horror, creatures, and aliens, Extreme gory horror and cannibalism, Bloody vampire horror, Monsters, aliens, sci-fi and the apocalypse, Survival horror and zombie carnage, Horror, the undead and monster classics, Gory, gruesome, and slasher horror', metadata={'row': 20381, 'source': 'movies_data.csv'})]"
      ]
     },
     "execution_count": 31,
     "metadata": {},
     "output_type": "execute_result"
    }
   ],
   "source": [
    "query = \"Tell me horror movies with zombies\"\n",
    "docs = chroma.similarity_search(query)\n",
    "docs"
   ]
  },
  {
   "cell_type": "code",
   "execution_count": 32,
   "metadata": {},
   "outputs": [
    {
     "name": "stdout",
     "output_type": "stream",
     "text": [
      "- James Earl Jones\n",
      "- David Prowse\n",
      "- Peter Mayhew\n",
      "- Kenny Baker\n",
      "- Anthony Daniels\n",
      "- Alec Guinness\n",
      "- Peter Cushing\n",
      "- Carrie Fisher\n",
      "- Harrison Ford\n",
      "- Mark Hamill\n"
     ]
    }
   ],
   "source": [
    "template = \"\"\"\n",
    "You are a helpful AI assistant.\n",
    "Answer based on the context provided.\n",
    "context: {context}\n",
    "input: {input}\n",
    "answer:\n",
    "\"\"\"\n",
    "prompt = PromptTemplate.from_template(template)\n",
    "combine_docs_chain = create_stuff_documents_chain(llm, prompt)\n",
    "retrieval_chain = create_retrieval_chain(retriever, combine_docs_chain)\n",
    "#Invoke the retrieval chain\n",
    "response=retrieval_chain.invoke({\"input\":\"Who are Star Wars actors?\"})\n",
    "#Print the answer to the question\n",
    "print(response[\"answer\"])"
   ]
  }
 ],
 "metadata": {
  "kernelspec": {
   "display_name": "chatbot_movies",
   "language": "python",
   "name": "python3"
  },
  "language_info": {
   "codemirror_mode": {
    "name": "ipython",
    "version": 3
   },
   "file_extension": ".py",
   "mimetype": "text/x-python",
   "name": "python",
   "nbconvert_exporter": "python",
   "pygments_lexer": "ipython3",
   "version": "3.10.6"
  }
 },
 "nbformat": 4,
 "nbformat_minor": 2
}
