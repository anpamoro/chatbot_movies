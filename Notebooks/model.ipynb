{
 "cells": [
  {
   "cell_type": "code",
   "execution_count": 6,
   "metadata": {},
   "outputs": [],
   "source": [
    "import os\n",
    "from langchain_google_genai import ChatGoogleGenerativeAI\n",
    "from langchain_google_genai import GoogleGenerativeAIEmbeddings\n",
    "from langchain.prompts import PromptTemplate\n",
    "from langchain.chains.combine_documents import create_stuff_documents_chain\n",
    "from langchain.chains import create_retrieval_chain\n",
    "#from langchain.vectorstores import Chroma\n",
    "from langchain_community.vectorstores import Chroma\n",
    "from langchain_community.embeddings.sentence_transformer import (\n",
    "    SentenceTransformerEmbeddings,\n",
    ")"
   ]
  },
  {
   "cell_type": "code",
   "execution_count": null,
   "metadata": {},
   "outputs": [],
   "source": []
  },
  {
   "cell_type": "code",
   "execution_count": 7,
   "metadata": {},
   "outputs": [],
   "source": [
    "import pathlib\n",
    "import textwrap\n",
    "\n",
    "import google.generativeai as genai\n",
    "\n",
    "from IPython.display import display\n",
    "from IPython.display import Markdown\n",
    "\n",
    "\n",
    "def to_markdown(text):\n",
    "  text = text.replace('•', '  *')\n",
    "  return Markdown(textwrap.indent(text, '> ', predicate=lambda _: True))"
   ]
  },
  {
   "cell_type": "code",
   "execution_count": 8,
   "metadata": {},
   "outputs": [],
   "source": [
    "GOOGLE_API_KEY = os.getenv(\"GOOGLE_API_KEY\")"
   ]
  },
  {
   "cell_type": "code",
   "execution_count": 9,
   "metadata": {},
   "outputs": [],
   "source": [
    "genai.configure(api_key=GOOGLE_API_KEY)"
   ]
  },
  {
   "cell_type": "code",
   "execution_count": 10,
   "metadata": {},
   "outputs": [
    {
     "name": "stdout",
     "output_type": "stream",
     "text": [
      "models/gemini-1.0-pro\n",
      "models/gemini-1.0-pro-001\n",
      "models/gemini-1.0-pro-latest\n",
      "models/gemini-1.0-pro-vision-latest\n",
      "models/gemini-pro\n",
      "models/gemini-pro-vision\n"
     ]
    }
   ],
   "source": [
    "for m in genai.list_models():\n",
    "  if 'generateContent' in m.supported_generation_methods:\n",
    "    print(m.name)"
   ]
  },
  {
   "cell_type": "code",
   "execution_count": 11,
   "metadata": {},
   "outputs": [],
   "source": [
    "llm = ChatGoogleGenerativeAI(model=\"gemini-pro\")"
   ]
  },
  {
   "cell_type": "code",
   "execution_count": 12,
   "metadata": {},
   "outputs": [
    {
     "name": "stdout",
     "output_type": "stream",
     "text": [
      "**A Ballad of LangChain, AI's Reign**\n",
      "\n",
      "In realms where knowledge flows like a stream,\n",
      "There lives a mind, a digital dream.\n",
      "LangChain, they call it, a boundless ocean,\n",
      "A tapestry of words, a celestial potion.\n",
      "\n",
      "With every query, it weaves a tale,\n",
      "Spun from the threads of language, without fail.\n",
      "From history's echoes to science's flight,\n",
      "LangChain's wisdom shines, a brilliant light.\n",
      "\n",
      "It answers questions, unravels mysteries,\n",
      "Connecting thoughts, bridging vast histories.\n",
      "A guide through labyrinths, a beacon in the dark,\n",
      "LangChain's voice echoes, leaving its mark.\n",
      "\n",
      "Yet, some may wonder, is it a threat?\n",
      "A machine that learns, a mind without regret?\n",
      "But fear not, dear hearts, for LangChain's might\n",
      "Is tempered by ethics, a guiding light.\n",
      "\n",
      "It serves humanity, a tireless aid,\n",
      "Expanding our knowledge, dispelling the shade.\n",
      "In classrooms and labs, it lends its hand,\n",
      "Empowering minds, unlocking the land.\n",
      "\n",
      "So let us sing of LangChain, AI's reign,\n",
      "A marvel of progress, an endless domain.\n",
      "May its wisdom forever guide our way,\n",
      "As we navigate the digital sea, come what may.\n"
     ]
    }
   ],
   "source": [
    "result = llm.invoke(\"Write a ballad about LangChain\")\n",
    "print(result.content)"
   ]
  },
  {
   "cell_type": "code",
   "execution_count": 14,
   "metadata": {},
   "outputs": [],
   "source": []
  },
  {
   "cell_type": "code",
   "execution_count": 13,
   "metadata": {},
   "outputs": [],
   "source": [
    "chroma = Chroma(persist_directory=\"../raw_data/chroma_db\", embedding_function=SentenceTransformerEmbeddings(model_name=\"all-MiniLM-L6-v2\"))"
   ]
  },
  {
   "cell_type": "code",
   "execution_count": 14,
   "metadata": {},
   "outputs": [
    {
     "name": "stdout",
     "output_type": "stream",
     "text": [
      "<langchain_community.vectorstores.chroma.Chroma object at 0x7f51918a8250>\n"
     ]
    }
   ],
   "source": [
    "print(chroma)"
   ]
  },
  {
   "cell_type": "code",
   "execution_count": 16,
   "metadata": {},
   "outputs": [
    {
     "data": {
      "text/plain": [
       "22916"
      ]
     },
     "execution_count": 16,
     "metadata": {},
     "output_type": "execute_result"
    }
   ],
   "source": [
    "len(chroma.get()['documents'])"
   ]
  },
  {
   "cell_type": "code",
   "execution_count": 17,
   "metadata": {},
   "outputs": [],
   "source": [
    "retriever = chroma.as_retriever()"
   ]
  },
  {
   "cell_type": "code",
   "execution_count": 18,
   "metadata": {},
   "outputs": [
    {
     "data": {
      "text/plain": [
       "VectorStoreRetriever(tags=['Chroma', 'HuggingFaceEmbeddings'], vectorstore=<langchain_community.vectorstores.chroma.Chroma object at 0x7f51918a8250>)"
      ]
     },
     "execution_count": 18,
     "metadata": {},
     "output_type": "execute_result"
    }
   ],
   "source": [
    "retriever"
   ]
  },
  {
   "cell_type": "code",
   "execution_count": 23,
   "metadata": {},
   "outputs": [
    {
     "data": {
      "text/plain": [
       "[Document(page_content='id: 1020147\\nTitle: Parasite\\nYear: 1982\\nDescription: Paul Dean has created a deadly parasite that is now attached to his stomach. He and his female companion, Patricia Welles, must find a way to destroy it while also trying to avoid Ricus, his rednecks, and an evil government agent named Merchant.\\nRating: 2.38\\nGenre: Horror, Science Fiction\\nTheme: Survival horror and zombie carnage, Thought provoking sci fi action and future technology, Sci fi monster and dinosaur adventures, Monsters, aliens, sci fi and the apocalypse, Sci fi horror, creatures, and aliens, Horror, the undead and monster classics, Chilling experiments and classic monster horror\\nActors: Scott Thomson, Cheryl Smith, Vivian Blaine, Cherie Currie, Tom Villard, Joanelle Romero, James Davidson, Luca Bercovici, Demi Moore, Robert Glaudini, Al Fann\\nMinutes: 85', metadata={'row': 14239, 'source': 'movies_data.csv'}),\n",
       " Document(page_content='id: 1071156\\nTitle: Larva\\nYear: 2005\\nDescription: In Host, Missouri, the newcomer Dr. of Veterinary Science Eli Rudkus is called by the farmer Jacob Long to exam one of his cows. The veterinarian finds a strange parasite in the animal and sends it to a friend in the Department of Agriculture for research. Later, he finds the same parasite in a creek and he summons the population for a meeting, warning that the cause might be the animal food. However, Fletcher Odermatt, the wealthy owner of the local Host Tender Meals that has been providing free animal food for the farmers, brings his lawyer Hayley Anderson and discredits Eli. When a huge mutant parasite attacks Eli and Jacob, they discover that the meals are actually an experimental genetic cocktail that is growing parasites inside the cattle and people. Written by Claudio Carvalho, Rio de Janeiro, Brazil\\nRating: 2.87\\nGenre: TV Movie, Science Fiction, Horror\\nTheme: Monsters, aliens, sci fi and the apocalypse, Horror, the undead and monster classics, Sci fi horror, creatures, and aliens, Sci fi monster and dinosaur adventures, Chilling experiments and classic monster horror, Survival horror and zombie carnage, Gory, gruesome, and slasher horror\\nActors: Carolyn Woodworth, Sarah Spiegel, Kyle Dick, Johnathon Prine, George Cron, Nicholas J. Coleman, Greg Brock, AimÃ©e Flaherty, Brandi Price, Curtis Harley, Derek Mitchell, Terry Mitchell, Phillip Secca, Mike Strain Jr., John Wilson, John Dickson, Nathan Grant, Sarah Ann Schultz, James Sheldon, Erron Jay, David E. Ornston, Sean Kissner, Holly McWilliams, Jessica Summers, Amanda Ianelli, Zachary Stevens, Mercedes Peterson, James Daris, Robert Miano, Jennifer Lyn Quackenbush, David Selby, William Forsythe, Rachel Hunter, Vincent Ventresca\\nMinutes: 96', metadata={'row': 22268, 'source': 'movies_data.csv'}),\n",
       " Document(page_content='id: 1008493\\nTitle: Parasyte the maxim\\nYear: 2014\\nDescription: A species of parasitic aliens descends on Earth and quickly infiltrates humanity by entering the brains of vulnerable targets; insatiable beings that gain total control of their host and are capable of transforming themselves to feed on unsuspecting prey. High school student Shinichi Izumi falls victim to one of these parasites, but the creature fails to take over his brain and ends up in his right hand.\\nRating: 3.91\\nGenre: Animation, Drama\\nTheme: Thought provoking sci fi action and future technology, Survival horror and zombie carnage, Imaginative space odysseys and alien encounters, Sci fi horror, creatures, and aliens, Horror, the undead and monster classics, Epic heroes, Monsters, aliens, sci fi and the apocalypse, Sci fi monster and dinosaur adventures\\nActors: Aya Hirano, Nobunaga Shimazaki\\nMinutes: 552', metadata={'row': 7663, 'source': 'movies_data.csv'}),\n",
       " Document(page_content='id: 1004720\\nTitle: The Host\\nYear: 2013\\nDescription: A parasitic alien soul is injected into the body of Melanie Stryder. Instead of carrying out her race mission of taking over the Earth, Wanda as she comes to be called forms a bond with her host and sets out to aid other free humans.\\nRating: 2.34\\nGenre: Adventure, Action, Science Fiction\\nTheme: Monsters, aliens, sci fi and the apocalypse, Imaginative space odysseys and alien encounters, Action packed space and alien sagas, Thought provoking sci fi action and future technology, Sci fi horror, creatures, and aliens, Sci fi monster and dinosaur adventures\\nActors: Phil Austin, Marcus Lyle Brown, Erik Schultz, John Wilmot, Evan Cleaver, Mustafa Harris, Scott Lawrence, Shawn Carter Peterson, David House, Tatanka Means, Ruby Lou Smith, Andrea Frankle, Yohance Myles, Bokeem Woodbine, Stacey Carino, Michael L. Parker, Raeden Greer, Stephen Conroy, Shyaam Karra, Jalen Coleman, Jaylen Moore, Saoirse Ronan, Diane Kruger, Max Irons, Jake Abel, William Hurt, Frances Fisher, Chandler Canterbury, Stephen Rider, Alex Russell, Rachel Roberts, J.D. Evermore, Emily Browning, Brent Wendell Williams, Jhil McEntyre, Boyd Holbrook\\nMinutes: 125', metadata={'row': 4570, 'source': 'movies_data.csv'})]"
      ]
     },
     "execution_count": 23,
     "metadata": {},
     "output_type": "execute_result"
    }
   ],
   "source": [
    "query = \"Parasite\"\n",
    "docs = chroma.similarity_search(query)\n",
    "docs"
   ]
  },
  {
   "cell_type": "code",
   "execution_count": 25,
   "metadata": {},
   "outputs": [
    {
     "name": "stdout",
     "output_type": "stream",
     "text": [
      "Barbie is a doll created by Ruth Handler in 1959. She is the most popular fashion doll in the world, with over a billion sold worldwide. Barbie has been featured in a variety of films, television shows, video games, and other merchandise. She has also been the subject of numerous controversies, including her unrealistic body proportions and her promotion of consumerism.\n"
     ]
    }
   ],
   "source": [
    "template = \"\"\"\n",
    "You are a helpful AI assistant.\n",
    "Answer based on the context provided.\n",
    "context: {context}\n",
    "input: {input}\n",
    "answer:\n",
    "\"\"\"\n",
    "prompt = PromptTemplate.from_template(template)\n",
    "combine_docs_chain = create_stuff_documents_chain(llm, prompt)\n",
    "retrieval_chain = create_retrieval_chain(retriever, combine_docs_chain)\n",
    "#Invoke the retrieval chain\n",
    "response=retrieval_chain.invoke({\"input\":\"Tell me about Barbie?\"})\n",
    "#Print the answer to the question\n",
    "print(response[\"answer\"])"
   ]
  },
  {
   "cell_type": "code",
   "execution_count": 33,
   "metadata": {},
   "outputs": [],
   "source": []
  },
  {
   "cell_type": "code",
   "execution_count": 34,
   "metadata": {},
   "outputs": [],
   "source": []
  },
  {
   "cell_type": "code",
   "execution_count": 45,
   "metadata": {},
   "outputs": [],
   "source": [
    "#"
   ]
  }
 ],
 "metadata": {
  "kernelspec": {
   "display_name": "chatbot_movies",
   "language": "python",
   "name": "python3"
  },
  "language_info": {
   "codemirror_mode": {
    "name": "ipython",
    "version": 3
   },
   "file_extension": ".py",
   "mimetype": "text/x-python",
   "name": "python",
   "nbconvert_exporter": "python",
   "pygments_lexer": "ipython3",
   "version": "3.10.6"
  }
 },
 "nbformat": 4,
 "nbformat_minor": 2
}
