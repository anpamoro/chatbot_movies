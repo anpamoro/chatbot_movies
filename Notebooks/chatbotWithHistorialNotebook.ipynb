{
 "cells": [
  {
   "cell_type": "code",
   "execution_count": 2,
   "id": "98f3ad55-b3ee-42da-bee2-8dd6b4fff5aa",
   "metadata": {},
   "outputs": [],
   "source": [
    "import os\n",
    "from langchain_google_genai import ChatGoogleGenerativeAI\n",
    "from langchain.prompts import PromptTemplate\n",
    "from langchain.chains.combine_documents import create_stuff_documents_chain\n",
    "from langchain.chains import create_retrieval_chain\n",
    "from langchain.vectorstores import Chroma\n",
    "from langchain_community.embeddings.sentence_transformer import SentenceTransformerEmbeddings\n",
    "import google.generativeai as genai"
   ]
  },
  {
   "cell_type": "code",
   "execution_count": 3,
   "id": "d769379e-478a-4395-bfd6-5c262a985051",
   "metadata": {},
   "outputs": [],
   "source": [
    "import textwrap\n",
    "from IPython.display import Markdown\n",
    "\n",
    "def to_markdown(text):\n",
    "  text = text.replace('•', '  *')\n",
    "  return Markdown(textwrap.indent(text, '> ', predicate=lambda _: True))"
   ]
  },
  {
   "cell_type": "code",
   "execution_count": 4,
   "id": "79bc606c-3ab0-4407-a6ce-f20140572247",
   "metadata": {},
   "outputs": [],
   "source": [
    "# Set up Google API Key\n",
    "GOOGLE_API_KEY = os.getenv(\"GOOGLE_API_KEY\")\n",
    "genai.configure(api_key=GOOGLE_API_KEY)"
   ]
  },
  {
   "cell_type": "code",
   "execution_count": 5,
   "id": "88a183ab-8456-407e-a1b6-2660b2f791bd",
   "metadata": {},
   "outputs": [],
   "source": [
    "class Chatbot:\n",
    "    def __init__(self):\n",
    "        self.conversation_history = []\n",
    "        self.llm = ChatGoogleGenerativeAI(model=\"gemini-pro\")\n",
    "        self.chroma = Chroma(persist_directory=\"../raw_data/chroma_db\", embedding_function=SentenceTransformerEmbeddings(model_name=\"all-MiniLM-L6-v2\"))\n",
    "        self.retriever = self.chroma.as_retriever()\n",
    "\n",
    "    def ask(self, question):\n",
    "        def generate_response(question, conversation_history,llm,retriever):\n",
    "\n",
    "            context = \"\\n\".join(conversation_history)\n",
    "\n",
    "            template = \"\"\"\n",
    "            You are a helpful AI assistant.\n",
    "            Answer based on the context provided.\n",
    "            context: {context}\n",
    "            input: {question}\n",
    "            answer:\n",
    "            \"\"\"\n",
    "            prompt = PromptTemplate.from_template(template)\n",
    "            combine_docs_chain = create_stuff_documents_chain(llm, prompt)\n",
    "            retrieval_chain = create_retrieval_chain(retriever, combine_docs_chain)\n",
    "\n",
    "            #Invoke the retrieval chain\n",
    "            response = retrieval_chain.invoke({'input': context, 'question': question})\n",
    "\n",
    "            return response[\"answer\"]\n",
    "\n",
    "        # Add question to conversation history\n",
    "        self.conversation_history.append(question)\n",
    "\n",
    "        # Generate response based on current question and conversation history\n",
    "        response = generate_response(question, self.conversation_history,self.llm,self.retriever)\n",
    "\n",
    "        # Add response to conversation history\n",
    "        self.conversation_history.append(response)\n",
    "\n",
    "        return response"
   ]
  },
  {
   "cell_type": "code",
   "execution_count": 6,
   "metadata": {},
   "outputs": [],
   "source": [
    "#initialize chat\n",
    "chatbot = Chatbot()\n"
   ]
  },
  {
   "cell_type": "code",
   "execution_count": 7,
   "id": "75d794f3-26c8-44cf-b5f5-83ae1d28eb4a",
   "metadata": {},
   "outputs": [
    {
     "name": "stdout",
     "output_type": "stream",
     "text": [
      "At a tiny Parisian café, the adorable yet painfully shy Amélie (Audrey Tautou) accidentally discovers a gift for helping others. Soon Amelie is spending her days as a matchmaker, guardian angel, and all-around do-gooder. But when she bumps into a handsome stranger, will she find the courage to become the star of her very own love story?\n",
      "The rating is 4.08.\n"
     ]
    }
   ],
   "source": [
    "\n",
    "# Simulate conversation\n",
    "question = \"What is Amelie about?\"\n",
    "response = chatbot.ask(question)\n",
    "print(response)\n",
    "\n",
    "question = \"what is the rating?\"\n",
    "response = chatbot.ask(question)\n",
    "print(response)\n"
   ]
  },
  {
   "cell_type": "code",
   "execution_count": 8,
   "id": "5146356e",
   "metadata": {},
   "outputs": [
    {
     "name": "stdout",
     "output_type": "stream",
     "text": [
      "The context does not specify the actors in the movie.\n"
     ]
    }
   ],
   "source": [
    "question = \"who are the actors?\"\n",
    "response = chatbot.ask(question)\n",
    "print(response)\n"
   ]
  },
  {
   "cell_type": "code",
   "execution_count": null,
   "id": "ee331467",
   "metadata": {},
   "outputs": [],
   "source": []
  }
 ],
 "metadata": {
  "kernelspec": {
   "display_name": "Python 3 (ipykernel)",
   "language": "python",
   "name": "python3"
  },
  "language_info": {
   "codemirror_mode": {
    "name": "ipython",
    "version": 3
   },
   "file_extension": ".py",
   "mimetype": "text/x-python",
   "name": "python",
   "nbconvert_exporter": "python",
   "pygments_lexer": "ipython3",
   "version": "3.10.6"
  }
 },
 "nbformat": 4,
 "nbformat_minor": 5
}
