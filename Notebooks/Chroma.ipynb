{
 "cells": [
  {
   "cell_type": "markdown",
   "id": "12645664",
   "metadata": {},
   "source": [
    "## El bueno"
   ]
  },
  {
   "cell_type": "code",
   "execution_count": 1,
   "id": "7bde3f31",
   "metadata": {},
   "outputs": [
    {
     "name": "stdout",
     "output_type": "stream",
     "text": [
      "Requirement already satisfied: chromadb in /home/nzr/.pyenv/versions/3.10.6/envs/lewagon/lib/python3.10/site-packages (0.4.24)\n",
      "Requirement already satisfied: build>=1.0.3 in /home/nzr/.pyenv/versions/3.10.6/envs/lewagon/lib/python3.10/site-packages (from chromadb) (1.1.1)\n",
      "Requirement already satisfied: requests>=2.28 in /home/nzr/.pyenv/versions/3.10.6/envs/lewagon/lib/python3.10/site-packages (from chromadb) (2.28.1)\n",
      "Requirement already satisfied: pydantic>=1.9 in /home/nzr/.pyenv/versions/3.10.6/envs/lewagon/lib/python3.10/site-packages (from chromadb) (1.9.2)\n",
      "Requirement already satisfied: chroma-hnswlib==0.7.3 in /home/nzr/.pyenv/versions/3.10.6/envs/lewagon/lib/python3.10/site-packages (from chromadb) (0.7.3)\n",
      "Requirement already satisfied: fastapi>=0.95.2 in /home/nzr/.pyenv/versions/3.10.6/envs/lewagon/lib/python3.10/site-packages (from chromadb) (0.110.0)\n",
      "Requirement already satisfied: uvicorn>=0.18.3 in /home/nzr/.pyenv/versions/3.10.6/envs/lewagon/lib/python3.10/site-packages (from uvicorn[standard]>=0.18.3->chromadb) (0.29.0)\n",
      "Requirement already satisfied: numpy>=1.22.5 in /home/nzr/.pyenv/versions/3.10.6/envs/lewagon/lib/python3.10/site-packages (from chromadb) (1.23.4)\n",
      "Requirement already satisfied: posthog>=2.4.0 in /home/nzr/.pyenv/versions/3.10.6/envs/lewagon/lib/python3.10/site-packages (from chromadb) (3.5.0)\n",
      "Requirement already satisfied: typing-extensions>=4.5.0 in /home/nzr/.pyenv/versions/3.10.6/envs/lewagon/lib/python3.10/site-packages (from chromadb) (4.10.0)\n",
      "Requirement already satisfied: pulsar-client>=3.1.0 in /home/nzr/.pyenv/versions/3.10.6/envs/lewagon/lib/python3.10/site-packages (from chromadb) (3.4.0)\n",
      "Requirement already satisfied: onnxruntime>=1.14.1 in /home/nzr/.pyenv/versions/3.10.6/envs/lewagon/lib/python3.10/site-packages (from chromadb) (1.17.1)\n",
      "Requirement already satisfied: opentelemetry-api>=1.2.0 in /home/nzr/.pyenv/versions/3.10.6/envs/lewagon/lib/python3.10/site-packages (from chromadb) (1.23.0)\n",
      "Requirement already satisfied: opentelemetry-exporter-otlp-proto-grpc>=1.2.0 in /home/nzr/.pyenv/versions/3.10.6/envs/lewagon/lib/python3.10/site-packages (from chromadb) (1.23.0)\n",
      "Requirement already satisfied: opentelemetry-instrumentation-fastapi>=0.41b0 in /home/nzr/.pyenv/versions/3.10.6/envs/lewagon/lib/python3.10/site-packages (from chromadb) (0.44b0)\n",
      "Requirement already satisfied: opentelemetry-sdk>=1.2.0 in /home/nzr/.pyenv/versions/3.10.6/envs/lewagon/lib/python3.10/site-packages (from chromadb) (1.23.0)\n",
      "Requirement already satisfied: tokenizers>=0.13.2 in /home/nzr/.pyenv/versions/3.10.6/envs/lewagon/lib/python3.10/site-packages (from chromadb) (0.14.0)\n",
      "Requirement already satisfied: pypika>=0.48.9 in /home/nzr/.pyenv/versions/3.10.6/envs/lewagon/lib/python3.10/site-packages (from chromadb) (0.48.9)\n",
      "Requirement already satisfied: tqdm>=4.65.0 in /home/nzr/.pyenv/versions/3.10.6/envs/lewagon/lib/python3.10/site-packages (from chromadb) (4.66.2)\n",
      "Requirement already satisfied: overrides>=7.3.1 in /home/nzr/.pyenv/versions/3.10.6/envs/lewagon/lib/python3.10/site-packages (from chromadb) (7.7.0)\n",
      "Requirement already satisfied: importlib-resources in /home/nzr/.pyenv/versions/3.10.6/envs/lewagon/lib/python3.10/site-packages (from chromadb) (5.10.0)\n",
      "Requirement already satisfied: grpcio>=1.58.0 in /home/nzr/.pyenv/versions/3.10.6/envs/lewagon/lib/python3.10/site-packages (from chromadb) (1.62.1)\n",
      "Requirement already satisfied: bcrypt>=4.0.1 in /home/nzr/.pyenv/versions/3.10.6/envs/lewagon/lib/python3.10/site-packages (from chromadb) (4.1.2)\n",
      "Requirement already satisfied: typer>=0.9.0 in /home/nzr/.pyenv/versions/3.10.6/envs/lewagon/lib/python3.10/site-packages (from chromadb) (0.10.0)\n",
      "Requirement already satisfied: kubernetes>=28.1.0 in /home/nzr/.pyenv/versions/3.10.6/envs/lewagon/lib/python3.10/site-packages (from chromadb) (29.0.0)\n",
      "Requirement already satisfied: tenacity>=8.2.3 in /home/nzr/.pyenv/versions/3.10.6/envs/lewagon/lib/python3.10/site-packages (from chromadb) (8.2.3)\n",
      "Requirement already satisfied: PyYAML>=6.0.0 in /home/nzr/.pyenv/versions/3.10.6/envs/lewagon/lib/python3.10/site-packages (from chromadb) (6.0.1)\n",
      "Requirement already satisfied: mmh3>=4.0.1 in /home/nzr/.pyenv/versions/3.10.6/envs/lewagon/lib/python3.10/site-packages (from chromadb) (4.1.0)\n",
      "Requirement already satisfied: orjson>=3.9.12 in /home/nzr/.pyenv/versions/3.10.6/envs/lewagon/lib/python3.10/site-packages (from chromadb) (3.9.15)\n",
      "Requirement already satisfied: packaging>=19.0 in /home/nzr/.pyenv/versions/3.10.6/envs/lewagon/lib/python3.10/site-packages (from build>=1.0.3->chromadb) (23.2)\n",
      "Requirement already satisfied: pyproject_hooks in /home/nzr/.pyenv/versions/3.10.6/envs/lewagon/lib/python3.10/site-packages (from build>=1.0.3->chromadb) (1.0.0)\n",
      "Requirement already satisfied: tomli>=1.1.0 in /home/nzr/.pyenv/versions/3.10.6/envs/lewagon/lib/python3.10/site-packages (from build>=1.0.3->chromadb) (2.0.1)\n",
      "Requirement already satisfied: starlette<0.37.0,>=0.36.3 in /home/nzr/.pyenv/versions/3.10.6/envs/lewagon/lib/python3.10/site-packages (from fastapi>=0.95.2->chromadb) (0.36.3)\n",
      "Requirement already satisfied: certifi>=14.05.14 in /home/nzr/.pyenv/versions/3.10.6/envs/lewagon/lib/python3.10/site-packages (from kubernetes>=28.1.0->chromadb) (2022.9.24)\n",
      "Requirement already satisfied: six>=1.9.0 in /home/nzr/.pyenv/versions/3.10.6/envs/lewagon/lib/python3.10/site-packages (from kubernetes>=28.1.0->chromadb) (1.16.0)\n",
      "Requirement already satisfied: python-dateutil>=2.5.3 in /home/nzr/.pyenv/versions/3.10.6/envs/lewagon/lib/python3.10/site-packages (from kubernetes>=28.1.0->chromadb) (2.8.2)\n",
      "Requirement already satisfied: google-auth>=1.0.1 in /home/nzr/.pyenv/versions/3.10.6/envs/lewagon/lib/python3.10/site-packages (from kubernetes>=28.1.0->chromadb) (2.13.0)\n",
      "Requirement already satisfied: websocket-client!=0.40.0,!=0.41.*,!=0.42.*,>=0.32.0 in /home/nzr/.pyenv/versions/3.10.6/envs/lewagon/lib/python3.10/site-packages (from kubernetes>=28.1.0->chromadb) (1.4.1)\n",
      "Requirement already satisfied: requests-oauthlib in /home/nzr/.pyenv/versions/3.10.6/envs/lewagon/lib/python3.10/site-packages (from kubernetes>=28.1.0->chromadb) (1.3.1)\n",
      "Requirement already satisfied: oauthlib>=3.2.2 in /home/nzr/.pyenv/versions/3.10.6/envs/lewagon/lib/python3.10/site-packages (from kubernetes>=28.1.0->chromadb) (3.2.2)\n",
      "Requirement already satisfied: urllib3>=1.24.2 in /home/nzr/.pyenv/versions/3.10.6/envs/lewagon/lib/python3.10/site-packages (from kubernetes>=28.1.0->chromadb) (1.26.12)\n",
      "Requirement already satisfied: coloredlogs in /home/nzr/.pyenv/versions/3.10.6/envs/lewagon/lib/python3.10/site-packages (from onnxruntime>=1.14.1->chromadb) (15.0.1)\n",
      "Requirement already satisfied: flatbuffers in /home/nzr/.pyenv/versions/3.10.6/envs/lewagon/lib/python3.10/site-packages (from onnxruntime>=1.14.1->chromadb) (22.9.24)\n",
      "Requirement already satisfied: protobuf in /home/nzr/.pyenv/versions/3.10.6/envs/lewagon/lib/python3.10/site-packages (from onnxruntime>=1.14.1->chromadb) (3.19.6)\n",
      "Requirement already satisfied: sympy in /home/nzr/.pyenv/versions/3.10.6/envs/lewagon/lib/python3.10/site-packages (from onnxruntime>=1.14.1->chromadb) (1.12)\n",
      "Requirement already satisfied: deprecated>=1.2.6 in /home/nzr/.pyenv/versions/3.10.6/envs/lewagon/lib/python3.10/site-packages (from opentelemetry-api>=1.2.0->chromadb) (1.2.14)\n",
      "Requirement already satisfied: importlib-metadata<7.0,>=6.0 in /home/nzr/.pyenv/versions/3.10.6/envs/lewagon/lib/python3.10/site-packages (from opentelemetry-api>=1.2.0->chromadb) (6.11.0)\n",
      "Requirement already satisfied: googleapis-common-protos~=1.52 in /home/nzr/.pyenv/versions/3.10.6/envs/lewagon/lib/python3.10/site-packages (from opentelemetry-exporter-otlp-proto-grpc>=1.2.0->chromadb) (1.56.4)\n",
      "Requirement already satisfied: opentelemetry-exporter-otlp-proto-common==1.23.0 in /home/nzr/.pyenv/versions/3.10.6/envs/lewagon/lib/python3.10/site-packages (from opentelemetry-exporter-otlp-proto-grpc>=1.2.0->chromadb) (1.23.0)\n",
      "Requirement already satisfied: opentelemetry-proto==1.23.0 in /home/nzr/.pyenv/versions/3.10.6/envs/lewagon/lib/python3.10/site-packages (from opentelemetry-exporter-otlp-proto-grpc>=1.2.0->chromadb) (1.23.0)\n",
      "Requirement already satisfied: opentelemetry-instrumentation-asgi==0.44b0 in /home/nzr/.pyenv/versions/3.10.6/envs/lewagon/lib/python3.10/site-packages (from opentelemetry-instrumentation-fastapi>=0.41b0->chromadb) (0.44b0)\n",
      "Requirement already satisfied: opentelemetry-instrumentation==0.44b0 in /home/nzr/.pyenv/versions/3.10.6/envs/lewagon/lib/python3.10/site-packages (from opentelemetry-instrumentation-fastapi>=0.41b0->chromadb) (0.44b0)\n",
      "Requirement already satisfied: opentelemetry-semantic-conventions==0.44b0 in /home/nzr/.pyenv/versions/3.10.6/envs/lewagon/lib/python3.10/site-packages (from opentelemetry-instrumentation-fastapi>=0.41b0->chromadb) (0.44b0)\n",
      "Requirement already satisfied: opentelemetry-util-http==0.44b0 in /home/nzr/.pyenv/versions/3.10.6/envs/lewagon/lib/python3.10/site-packages (from opentelemetry-instrumentation-fastapi>=0.41b0->chromadb) (0.44b0)\n",
      "Requirement already satisfied: setuptools>=16.0 in /home/nzr/.pyenv/versions/3.10.6/envs/lewagon/lib/python3.10/site-packages (from opentelemetry-instrumentation==0.44b0->opentelemetry-instrumentation-fastapi>=0.41b0->chromadb) (63.2.0)\n",
      "Requirement already satisfied: wrapt<2.0.0,>=1.0.0 in /home/nzr/.pyenv/versions/3.10.6/envs/lewagon/lib/python3.10/site-packages (from opentelemetry-instrumentation==0.44b0->opentelemetry-instrumentation-fastapi>=0.41b0->chromadb) (1.14.1)\n",
      "Requirement already satisfied: asgiref~=3.0 in /home/nzr/.pyenv/versions/3.10.6/envs/lewagon/lib/python3.10/site-packages (from opentelemetry-instrumentation-asgi==0.44b0->opentelemetry-instrumentation-fastapi>=0.41b0->chromadb) (3.8.1)\n"
     ]
    },
    {
     "name": "stdout",
     "output_type": "stream",
     "text": [
      "Requirement already satisfied: monotonic>=1.5 in /home/nzr/.pyenv/versions/3.10.6/envs/lewagon/lib/python3.10/site-packages (from posthog>=2.4.0->chromadb) (1.6)\n",
      "Requirement already satisfied: backoff>=1.10.0 in /home/nzr/.pyenv/versions/3.10.6/envs/lewagon/lib/python3.10/site-packages (from posthog>=2.4.0->chromadb) (2.2.1)\n",
      "Requirement already satisfied: charset-normalizer<3,>=2 in /home/nzr/.pyenv/versions/3.10.6/envs/lewagon/lib/python3.10/site-packages (from requests>=2.28->chromadb) (2.1.1)\n",
      "Requirement already satisfied: idna<4,>=2.5 in /home/nzr/.pyenv/versions/3.10.6/envs/lewagon/lib/python3.10/site-packages (from requests>=2.28->chromadb) (3.4)\n",
      "Requirement already satisfied: huggingface_hub<0.17,>=0.16.4 in /home/nzr/.pyenv/versions/3.10.6/envs/lewagon/lib/python3.10/site-packages (from tokenizers>=0.13.2->chromadb) (0.16.4)\n",
      "Requirement already satisfied: click<9.0.0,>=7.1.1 in /home/nzr/.pyenv/versions/3.10.6/envs/lewagon/lib/python3.10/site-packages (from typer>=0.9.0->chromadb) (8.1.3)\n",
      "Requirement already satisfied: h11>=0.8 in /home/nzr/.pyenv/versions/3.10.6/envs/lewagon/lib/python3.10/site-packages (from uvicorn>=0.18.3->uvicorn[standard]>=0.18.3->chromadb) (0.12.0)\n",
      "Requirement already satisfied: httptools>=0.5.0 in /home/nzr/.pyenv/versions/3.10.6/envs/lewagon/lib/python3.10/site-packages (from uvicorn[standard]>=0.18.3->chromadb) (0.6.1)\n",
      "Requirement already satisfied: python-dotenv>=0.13 in /home/nzr/.pyenv/versions/3.10.6/envs/lewagon/lib/python3.10/site-packages (from uvicorn[standard]>=0.18.3->chromadb) (0.20.0)\n",
      "Requirement already satisfied: uvloop!=0.15.0,!=0.15.1,>=0.14.0 in /home/nzr/.pyenv/versions/3.10.6/envs/lewagon/lib/python3.10/site-packages (from uvicorn[standard]>=0.18.3->chromadb) (0.19.0)\n",
      "Requirement already satisfied: watchfiles>=0.13 in /home/nzr/.pyenv/versions/3.10.6/envs/lewagon/lib/python3.10/site-packages (from uvicorn[standard]>=0.18.3->chromadb) (0.21.0)\n",
      "Requirement already satisfied: websockets>=10.4 in /home/nzr/.pyenv/versions/3.10.6/envs/lewagon/lib/python3.10/site-packages (from uvicorn[standard]>=0.18.3->chromadb) (12.0)\n",
      "Requirement already satisfied: cachetools<6.0,>=2.0.0 in /home/nzr/.pyenv/versions/3.10.6/envs/lewagon/lib/python3.10/site-packages (from google-auth>=1.0.1->kubernetes>=28.1.0->chromadb) (5.2.0)\n",
      "Requirement already satisfied: pyasn1-modules>=0.2.1 in /home/nzr/.pyenv/versions/3.10.6/envs/lewagon/lib/python3.10/site-packages (from google-auth>=1.0.1->kubernetes>=28.1.0->chromadb) (0.2.8)\n",
      "Requirement already satisfied: rsa<5,>=3.1.4 in /home/nzr/.pyenv/versions/3.10.6/envs/lewagon/lib/python3.10/site-packages (from google-auth>=1.0.1->kubernetes>=28.1.0->chromadb) (4.9)\n",
      "Requirement already satisfied: filelock in /home/nzr/.pyenv/versions/3.10.6/envs/lewagon/lib/python3.10/site-packages (from huggingface_hub<0.17,>=0.16.4->tokenizers>=0.13.2->chromadb) (3.12.4)\n",
      "Requirement already satisfied: fsspec in /home/nzr/.pyenv/versions/3.10.6/envs/lewagon/lib/python3.10/site-packages (from huggingface_hub<0.17,>=0.16.4->tokenizers>=0.13.2->chromadb) (2022.10.0)\n",
      "Requirement already satisfied: zipp>=0.5 in /home/nzr/.pyenv/versions/3.10.6/envs/lewagon/lib/python3.10/site-packages (from importlib-metadata<7.0,>=6.0->opentelemetry-api>=1.2.0->chromadb) (3.10.0)\n",
      "Requirement already satisfied: anyio<5,>=3.4.0 in /home/nzr/.pyenv/versions/3.10.6/envs/lewagon/lib/python3.10/site-packages (from starlette<0.37.0,>=0.36.3->fastapi>=0.95.2->chromadb) (3.6.2)\n",
      "Requirement already satisfied: humanfriendly>=9.1 in /home/nzr/.pyenv/versions/3.10.6/envs/lewagon/lib/python3.10/site-packages (from coloredlogs->onnxruntime>=1.14.1->chromadb) (10.0)\n",
      "Requirement already satisfied: mpmath>=0.19 in /home/nzr/.pyenv/versions/3.10.6/envs/lewagon/lib/python3.10/site-packages (from sympy->onnxruntime>=1.14.1->chromadb) (1.3.0)\n",
      "Requirement already satisfied: sniffio>=1.1 in /home/nzr/.pyenv/versions/3.10.6/envs/lewagon/lib/python3.10/site-packages (from anyio<5,>=3.4.0->starlette<0.37.0,>=0.36.3->fastapi>=0.95.2->chromadb) (1.3.0)\n",
      "Requirement already satisfied: pyasn1<0.5.0,>=0.4.6 in /home/nzr/.pyenv/versions/3.10.6/envs/lewagon/lib/python3.10/site-packages (from pyasn1-modules>=0.2.1->google-auth>=1.0.1->kubernetes>=28.1.0->chromadb) (0.4.8)\n",
      "Note: you may need to restart the kernel to use updated packages.\n"
     ]
    }
   ],
   "source": [
    "pip install chromadb"
   ]
  },
  {
   "cell_type": "code",
   "execution_count": 1,
   "id": "d7b6aa8c",
   "metadata": {},
   "outputs": [],
   "source": [
    "import pandas as pd\n",
    "import numpy as np\n",
    "from langchain_community.document_loaders.csv_loader import CSVLoader\n",
    "from langchain_community.document_loaders import TextLoader\n",
    "from langchain_community.embeddings.sentence_transformer import (SentenceTransformerEmbeddings,)\n",
    "from langchain_community.vectorstores import Chroma\n",
    "from langchain_text_splitters import CharacterTextSplitter"
   ]
  },
  {
   "cell_type": "code",
   "execution_count": null,
   "id": "c653ceeb",
   "metadata": {},
   "outputs": [],
   "source": []
  },
  {
   "cell_type": "code",
   "execution_count": 2,
   "id": "5be5f1e2",
   "metadata": {},
   "outputs": [],
   "source": [
    "loader = CSVLoader(file_path='movies_data.csv')\n",
    "data = loader.load()"
   ]
  },
  {
   "cell_type": "code",
   "execution_count": 5,
   "id": "8ac1412d",
   "metadata": {},
   "outputs": [],
   "source": [
    "text_splitter = CharacterTextSplitter(chunk_size=1000, chunk_overlap=0)\n",
    "docs = text_splitter.split_documents(data)"
   ]
  },
  {
   "cell_type": "code",
   "execution_count": 8,
   "id": "e6b637ed",
   "metadata": {},
   "outputs": [],
   "source": [
    "embedding_function = SentenceTransformerEmbeddings(model_name=\"all-MiniLM-L6-v2\")"
   ]
  },
  {
   "cell_type": "code",
   "execution_count": 9,
   "id": "d6d33b4a",
   "metadata": {},
   "outputs": [],
   "source": [
    "db_c = Chroma.from_documents(docs, embedding_function)"
   ]
  },
  {
   "cell_type": "code",
   "execution_count": 14,
   "id": "30249649",
   "metadata": {},
   "outputs": [
    {
     "data": {
      "text/plain": [
       "22923"
      ]
     },
     "execution_count": 14,
     "metadata": {},
     "output_type": "execute_result"
    }
   ],
   "source": [
    "len(db_c.get()['documents'])\n",
    "db_c.get()['documents']"
   ]
  },
  {
   "cell_type": "code",
   "execution_count": 78,
   "id": "3c22c317",
   "metadata": {},
   "outputs": [],
   "source": [
    "db_c.get()"
   ]
  },
  {
   "cell_type": "code",
   "execution_count": 63,
   "id": "bcee258d",
   "metadata": {},
   "outputs": [],
   "source": [
    "query = \"Harry?\""
   ]
  },
  {
   "cell_type": "code",
   "execution_count": 64,
   "id": "eec2fc31",
   "metadata": {},
   "outputs": [],
   "source": [
    "doc= db_c.similarity_search(query)"
   ]
  },
  {
   "cell_type": "code",
   "execution_count": 65,
   "id": "171f6484",
   "metadata": {},
   "outputs": [
    {
     "data": {
      "text/plain": [
       "\"id: 1000182\\nTitle: Harry Potter and the Deathly Hallows: Part 2\\nYear: 2011.0\\nDescription: Harry, Ron and Hermione continue their quest to vanquish the evil Voldemort once and for all. Just as things begin to look hopeless for the young wizards, Harry discovers a trio of magical objects that endow him with powers to rival Voldemort's formidable skills.\\nMinutes: 130.0\\nRating: 3.94\\nGenre: Fantasy, Adventure\\nActors: Emma Thompson, Adrian Rawlins, Ellie Darcey-Alden, Ariella Paradise, Alfie McIlwain, Leslie Phillips, Rohan Gotobed, Penelope McGhie, Geraldine Somerville, Benedict Clarke, Tony Adkins, Amber Evans, Phil Wright, Guy Henry, Chris Rankin, George Harris, Ruby Evans, Louis Cordice, Josh Herdman, Scarlett Hefner, Toby Papworth, Jim Broadbent, Gary Sayer, Timothy Spall, David Heyman, Judith Sharp, Suzie Toase, Harrison Davis, Spencer Wilding, Pauline Stone, Annabelle Davis, Keijo J. Salmela, Luke Newberry, Charlie Hobbs, Vinnie Clarke, Sean Biggerstaff, Paul Bailey, Ryan Turner, Helena Barlow, Bertie Gilbert, Jade Gordon, Will Dunn, Daphne de Beistegui, Arthur Bowen, Ashley McGuire, Tony Kirwood, Granville Saxton, Bob Yves Van Hellenberg Hubar, Emil Hostina, Peter G. Reed, Ralph Ineson, Ralph Fiennes, William Melling, Gemma Jones, Julie Walters, David Bradley, Gary Oldman, David Thewlis, Maggie Smith, Jason Isaacs, Helen McCrory, Tom Felton, Kelly Macdonald, Dave Legeno, Robbie Coltrane, John Hurt, Ciarán Hinds, Helena Bonham Carter, Warwick Davis, Michael Gambon, Alan Rickman, Rupert Grint, Emma Watson, Daniel Radcliffe, Sian Grace Phillips, Evanna Lynch, Miriam Margolyes, Matthew Lewis, James Phelps, Katie Leung, Nick Moran, Alfred Enoch, Freddie Stroma, Georgina Leonidas, Isabella Laughland, Afshan Azad, Jessie Cave, Devon Murray, Hebe Beardsall, Benn Northover, Anna Shaffer, Jon Key, Clémence Poésy, Oliver Phelps, Ian Peck, Natalia Tena, Bonnie Wright, Mark Williams, Domhnall Gleeson, Graham Duff, Anthony Allgood, Rusty Goffe\\nTheme: Epic adventure and breathtaking battles, Epic history and literature, Epic heroes, Fantasy adventure, heroism, and swordplay, Historical battles and epic heroism, Captivating vision and Shakespearean drama, Intense combat and martial arts\""
      ]
     },
     "execution_count": 65,
     "metadata": {},
     "output_type": "execute_result"
    }
   ],
   "source": [
    "doc[0].page_content"
   ]
  },
  {
   "cell_type": "code",
   "execution_count": 50,
   "id": "30b5d53a",
   "metadata": {},
   "outputs": [],
   "source": [
    "db2_c = Chroma.from_documents(docs, embedding_function, persist_directory=\"./chroma_db\")"
   ]
  },
  {
   "cell_type": "code",
   "execution_count": 61,
   "id": "54e2bad9",
   "metadata": {},
   "outputs": [
    {
     "data": {
      "text/plain": [
       "22923"
      ]
     },
     "execution_count": 61,
     "metadata": {},
     "output_type": "execute_result"
    }
   ],
   "source": [
    "len(db2_c.get()['documents'])"
   ]
  },
  {
   "cell_type": "code",
   "execution_count": 75,
   "id": "446bcff8",
   "metadata": {},
   "outputs": [],
   "source": [
    "query = \"Alien\""
   ]
  },
  {
   "cell_type": "code",
   "execution_count": 76,
   "id": "d280285e",
   "metadata": {},
   "outputs": [],
   "source": [
    "doc1= db2_c.similarity_search(query)"
   ]
  },
  {
   "cell_type": "code",
   "execution_count": 77,
   "id": "90783a03",
   "metadata": {},
   "outputs": [
    {
     "data": {
      "text/plain": [
       "\"id: 1000482\\nTitle: Aliens\\nYear: 1986.0\\nDescription: When Ripley's lifepod is found by a salvage crew over 50 years later, she finds that terra-formers are on the very planet they found the alien species. When the company sends a family of colonists out to investigate her story—all contact is lost with the planet and colonists. They enlist Ripley and the colonial marines to return and search for answers.\\nMinutes: 137.0\\nRating: 4.15\\nGenre: Science Fiction, Horror, Thriller, Action\\nActors: Holly De Jong, Blain Fairman, Barbara Coles, Carl Toop, John Lees, Mac McDonald, William Armstrong, Eddie Powell, Bob Sherman, Jay Benedict, Elizabeth Inglis, Stuart Milligan, Chris Webb, Tom Woodruff Jr., Alec Gillis, Alibe Parsons, Jill Goldston, Alan Polonsky, Valerie Colgan, Paul Maxwell, Sigourney Weaver, Michael Biehn, Lance Henriksen, Bill Paxton, Carrie Henn, Paul Reiser, Mark Rolston, Jenette Goldstein, Al Matthews, Colette Hiller, Ricco Ross, Daniel Kash, Cynthia Dale Scott, Tip Tipping, Trevor Steedman, William Hope\\nTheme: Monsters, aliens, sci-fi and the apocalypse, Imaginative space odysseys and alien encounters, Action-packed space and alien sagas, Sci-fi horror, creatures, and aliens, Sci-fi monster and dinosaur adventures, Thought-provoking sci-fi action and future technology\""
      ]
     },
     "execution_count": 77,
     "metadata": {},
     "output_type": "execute_result"
    }
   ],
   "source": [
    "doc1[0].page_content"
   ]
  },
  {
   "cell_type": "code",
   "execution_count": null,
   "id": "43ccf4ae",
   "metadata": {},
   "outputs": [],
   "source": []
  },
  {
   "cell_type": "code",
   "execution_count": null,
   "id": "1e94bfdd",
   "metadata": {},
   "outputs": [],
   "source": []
  },
  {
   "cell_type": "code",
   "execution_count": null,
   "id": "09cac4c5",
   "metadata": {},
   "outputs": [],
   "source": []
  },
  {
   "cell_type": "code",
   "execution_count": null,
   "id": "bb7a0690",
   "metadata": {},
   "outputs": [],
   "source": []
  }
 ],
 "metadata": {
  "language_info": {
   "codemirror_mode": {
    "name": "ipython",
    "version": 3
   },
   "file_extension": ".py",
   "mimetype": "text/x-python",
   "name": "python",
   "nbconvert_exporter": "python",
   "pygments_lexer": "ipython3",
   "version": "3.10.6"
  }
 },
 "nbformat": 4,
 "nbformat_minor": 5
}
