{
 "cells": [
  {
   "cell_type": "code",
   "execution_count": 1,
   "id": "dad14531",
   "metadata": {},
   "outputs": [],
   "source": [
    "import pandas as pd\n",
    "import numpy as np"
   ]
  },
  {
   "cell_type": "markdown",
   "id": "865e1afa",
   "metadata": {},
   "source": [
    "### Data movies"
   ]
  },
  {
   "cell_type": "code",
   "execution_count": 2,
   "id": "68f9e663",
   "metadata": {},
   "outputs": [],
   "source": [
    "data = pd.read_csv(\"../raw_data/movies.csv\")"
   ]
  },
  {
   "cell_type": "code",
   "execution_count": 3,
   "id": "5e9f8e6e",
   "metadata": {},
   "outputs": [
    {
     "data": {
      "text/html": [
       "<div>\n",
       "<style scoped>\n",
       "    .dataframe tbody tr th:only-of-type {\n",
       "        vertical-align: middle;\n",
       "    }\n",
       "\n",
       "    .dataframe tbody tr th {\n",
       "        vertical-align: top;\n",
       "    }\n",
       "\n",
       "    .dataframe thead th {\n",
       "        text-align: right;\n",
       "    }\n",
       "</style>\n",
       "<table border=\"1\" class=\"dataframe\">\n",
       "  <thead>\n",
       "    <tr style=\"text-align: right;\">\n",
       "      <th></th>\n",
       "      <th>id</th>\n",
       "      <th>name</th>\n",
       "      <th>date</th>\n",
       "      <th>tagline</th>\n",
       "      <th>description</th>\n",
       "      <th>minute</th>\n",
       "      <th>rating</th>\n",
       "    </tr>\n",
       "  </thead>\n",
       "  <tbody>\n",
       "    <tr>\n",
       "      <th>0</th>\n",
       "      <td>1000001</td>\n",
       "      <td>Barbie</td>\n",
       "      <td>2023.0</td>\n",
       "      <td>She's everything. He's just Ken.</td>\n",
       "      <td>Barbie and Ken are having the time of their li...</td>\n",
       "      <td>114.0</td>\n",
       "      <td>3.91</td>\n",
       "    </tr>\n",
       "    <tr>\n",
       "      <th>1</th>\n",
       "      <td>1000002</td>\n",
       "      <td>Parasite</td>\n",
       "      <td>2019.0</td>\n",
       "      <td>Act like you own the place.</td>\n",
       "      <td>All unemployed, Ki-taek's family takes peculia...</td>\n",
       "      <td>133.0</td>\n",
       "      <td>4.57</td>\n",
       "    </tr>\n",
       "    <tr>\n",
       "      <th>2</th>\n",
       "      <td>1000003</td>\n",
       "      <td>Everything Everywhere All at Once</td>\n",
       "      <td>2022.0</td>\n",
       "      <td>The universe is so much bigger than you realize.</td>\n",
       "      <td>An aging Chinese immigrant is swept up in an i...</td>\n",
       "      <td>140.0</td>\n",
       "      <td>4.32</td>\n",
       "    </tr>\n",
       "    <tr>\n",
       "      <th>3</th>\n",
       "      <td>1000004</td>\n",
       "      <td>Fight Club</td>\n",
       "      <td>1999.0</td>\n",
       "      <td>Mischief. Mayhem. Soap.</td>\n",
       "      <td>A ticking-time-bomb insomniac and a slippery s...</td>\n",
       "      <td>139.0</td>\n",
       "      <td>4.27</td>\n",
       "    </tr>\n",
       "    <tr>\n",
       "      <th>4</th>\n",
       "      <td>1000005</td>\n",
       "      <td>Interstellar</td>\n",
       "      <td>2014.0</td>\n",
       "      <td>Mankind was born on Earth. It was never meant ...</td>\n",
       "      <td>The adventures of a group of explorers who mak...</td>\n",
       "      <td>169.0</td>\n",
       "      <td>4.32</td>\n",
       "    </tr>\n",
       "  </tbody>\n",
       "</table>\n",
       "</div>"
      ],
      "text/plain": [
       "        id                               name    date  \\\n",
       "0  1000001                             Barbie  2023.0   \n",
       "1  1000002                           Parasite  2019.0   \n",
       "2  1000003  Everything Everywhere All at Once  2022.0   \n",
       "3  1000004                         Fight Club  1999.0   \n",
       "4  1000005                       Interstellar  2014.0   \n",
       "\n",
       "                                             tagline  \\\n",
       "0                   She's everything. He's just Ken.   \n",
       "1                        Act like you own the place.   \n",
       "2   The universe is so much bigger than you realize.   \n",
       "3                            Mischief. Mayhem. Soap.   \n",
       "4  Mankind was born on Earth. It was never meant ...   \n",
       "\n",
       "                                         description  minute  rating  \n",
       "0  Barbie and Ken are having the time of their li...   114.0    3.91  \n",
       "1  All unemployed, Ki-taek's family takes peculia...   133.0    4.57  \n",
       "2  An aging Chinese immigrant is swept up in an i...   140.0    4.32  \n",
       "3  A ticking-time-bomb insomniac and a slippery s...   139.0    4.27  \n",
       "4  The adventures of a group of explorers who mak...   169.0    4.32  "
      ]
     },
     "execution_count": 3,
     "metadata": {},
     "output_type": "execute_result"
    }
   ],
   "source": [
    "data.head()"
   ]
  },
  {
   "cell_type": "code",
   "execution_count": 4,
   "id": "e182b480",
   "metadata": {},
   "outputs": [
    {
     "data": {
      "text/plain": [
       "(896400, 7)"
      ]
     },
     "execution_count": 4,
     "metadata": {},
     "output_type": "execute_result"
    }
   ],
   "source": [
    "data.shape"
   ]
  },
  {
   "cell_type": "code",
   "execution_count": 5,
   "id": "f632c441",
   "metadata": {},
   "outputs": [
    {
     "data": {
      "text/plain": [
       "0"
      ]
     },
     "execution_count": 5,
     "metadata": {},
     "output_type": "execute_result"
    }
   ],
   "source": [
    "data.duplicated().sum()"
   ]
  },
  {
   "cell_type": "code",
   "execution_count": 6,
   "id": "b26166d2",
   "metadata": {},
   "outputs": [
    {
     "data": {
      "text/plain": [
       "rating         810786\n",
       "tagline        764626\n",
       "minute         187050\n",
       "description    155188\n",
       "date            87121\n",
       "name                0\n",
       "id                  0\n",
       "dtype: int64"
      ]
     },
     "execution_count": 6,
     "metadata": {},
     "output_type": "execute_result"
    }
   ],
   "source": [
    "data.isnull().sum().sort_values(ascending=False)"
   ]
  },
  {
   "cell_type": "code",
   "execution_count": 7,
   "id": "1c2ee732",
   "metadata": {},
   "outputs": [
    {
     "data": {
      "text/plain": [
       "rating         810786\n",
       "tagline        764626\n",
       "minute         187050\n",
       "description    155188\n",
       "date            87121\n",
       "name                0\n",
       "id                  0\n",
       "dtype: int64"
      ]
     },
     "execution_count": 7,
     "metadata": {},
     "output_type": "execute_result"
    }
   ],
   "source": [
    "data.isnull().sum().sort_values(ascending=False)"
   ]
  },
  {
   "cell_type": "code",
   "execution_count": 8,
   "id": "dd57a3f7",
   "metadata": {},
   "outputs": [],
   "source": [
    "data.dropna(subset=['rating'], inplace= True) #Delete no rating"
   ]
  },
  {
   "cell_type": "code",
   "execution_count": 9,
   "id": "cc1170a2",
   "metadata": {},
   "outputs": [],
   "source": [
    "data.dropna(subset=['description'], inplace= True) #Delete no description"
   ]
  },
  {
   "cell_type": "code",
   "execution_count": 10,
   "id": "8f0d526d",
   "metadata": {},
   "outputs": [],
   "source": [
    "data.dropna(subset=['minute'], inplace= True) #Delete no minute"
   ]
  },
  {
   "cell_type": "code",
   "execution_count": 11,
   "id": "3f53d3c7",
   "metadata": {},
   "outputs": [
    {
     "data": {
      "text/plain": [
       "(84681, 7)"
      ]
     },
     "execution_count": 11,
     "metadata": {},
     "output_type": "execute_result"
    }
   ],
   "source": [
    "data.shape"
   ]
  },
  {
   "cell_type": "code",
   "execution_count": 12,
   "id": "8b7404e0",
   "metadata": {},
   "outputs": [],
   "source": [
    "data.drop(columns='tagline', inplace=True) #Delete feature tagline"
   ]
  },
  {
   "cell_type": "code",
   "execution_count": 13,
   "id": "fa5a6da6",
   "metadata": {
    "scrolled": true
   },
   "outputs": [
    {
     "name": "stdout",
     "output_type": "stream",
     "text": [
      "<class 'pandas.core.frame.DataFrame'>\n",
      "Index: 84681 entries, 0 to 158773\n",
      "Data columns (total 6 columns):\n",
      " #   Column       Non-Null Count  Dtype  \n",
      "---  ------       --------------  -----  \n",
      " 0   id           84681 non-null  int64  \n",
      " 1   name         84681 non-null  object \n",
      " 2   date         84681 non-null  float64\n",
      " 3   description  84681 non-null  object \n",
      " 4   minute       84681 non-null  float64\n",
      " 5   rating       84681 non-null  float64\n",
      "dtypes: float64(3), int64(1), object(2)\n",
      "memory usage: 4.5+ MB\n"
     ]
    }
   ],
   "source": [
    "data.info()"
   ]
  },
  {
   "cell_type": "markdown",
   "id": "0ca37a6e",
   "metadata": {},
   "source": [
    "### Aditional Data"
   ]
  },
  {
   "cell_type": "code",
   "execution_count": 14,
   "id": "f65d3346",
   "metadata": {},
   "outputs": [],
   "source": [
    "data_gen= pd.read_csv(\"../raw_data/genres.csv\")"
   ]
  },
  {
   "cell_type": "code",
   "execution_count": 15,
   "id": "01cc4ad7",
   "metadata": {},
   "outputs": [],
   "source": [
    "data_gen=data_gen.groupby('id').agg({'genre': ', '.join}).reset_index()"
   ]
  },
  {
   "cell_type": "code",
   "execution_count": 16,
   "id": "fc482423",
   "metadata": {},
   "outputs": [
    {
     "data": {
      "text/html": [
       "<div>\n",
       "<style scoped>\n",
       "    .dataframe tbody tr th:only-of-type {\n",
       "        vertical-align: middle;\n",
       "    }\n",
       "\n",
       "    .dataframe tbody tr th {\n",
       "        vertical-align: top;\n",
       "    }\n",
       "\n",
       "    .dataframe thead th {\n",
       "        text-align: right;\n",
       "    }\n",
       "</style>\n",
       "<table border=\"1\" class=\"dataframe\">\n",
       "  <thead>\n",
       "    <tr style=\"text-align: right;\">\n",
       "      <th></th>\n",
       "      <th>id</th>\n",
       "      <th>genre</th>\n",
       "    </tr>\n",
       "  </thead>\n",
       "  <tbody>\n",
       "    <tr>\n",
       "      <th>0</th>\n",
       "      <td>1000001</td>\n",
       "      <td>Comedy, Fantasy, Adventure</td>\n",
       "    </tr>\n",
       "    <tr>\n",
       "      <th>1</th>\n",
       "      <td>1000002</td>\n",
       "      <td>Comedy, Thriller, Drama</td>\n",
       "    </tr>\n",
       "    <tr>\n",
       "      <th>2</th>\n",
       "      <td>1000003</td>\n",
       "      <td>Science Fiction, Action, Adventure</td>\n",
       "    </tr>\n",
       "    <tr>\n",
       "      <th>3</th>\n",
       "      <td>1000004</td>\n",
       "      <td>Drama</td>\n",
       "    </tr>\n",
       "    <tr>\n",
       "      <th>4</th>\n",
       "      <td>1000005</td>\n",
       "      <td>Science Fiction, Drama, Adventure</td>\n",
       "    </tr>\n",
       "    <tr>\n",
       "      <th>...</th>\n",
       "      <td>...</td>\n",
       "      <td>...</td>\n",
       "    </tr>\n",
       "    <tr>\n",
       "      <th>638627</th>\n",
       "      <td>1896377</td>\n",
       "      <td>Comedy</td>\n",
       "    </tr>\n",
       "    <tr>\n",
       "      <th>638628</th>\n",
       "      <td>1896380</td>\n",
       "      <td>Crime, Drama</td>\n",
       "    </tr>\n",
       "    <tr>\n",
       "      <th>638629</th>\n",
       "      <td>1896382</td>\n",
       "      <td>Drama</td>\n",
       "    </tr>\n",
       "    <tr>\n",
       "      <th>638630</th>\n",
       "      <td>1896391</td>\n",
       "      <td>Music</td>\n",
       "    </tr>\n",
       "    <tr>\n",
       "      <th>638631</th>\n",
       "      <td>1896393</td>\n",
       "      <td>TV Movie</td>\n",
       "    </tr>\n",
       "  </tbody>\n",
       "</table>\n",
       "<p>638632 rows × 2 columns</p>\n",
       "</div>"
      ],
      "text/plain": [
       "             id                               genre\n",
       "0       1000001          Comedy, Fantasy, Adventure\n",
       "1       1000002             Comedy, Thriller, Drama\n",
       "2       1000003  Science Fiction, Action, Adventure\n",
       "3       1000004                               Drama\n",
       "4       1000005   Science Fiction, Drama, Adventure\n",
       "...         ...                                 ...\n",
       "638627  1896377                              Comedy\n",
       "638628  1896380                        Crime, Drama\n",
       "638629  1896382                               Drama\n",
       "638630  1896391                               Music\n",
       "638631  1896393                            TV Movie\n",
       "\n",
       "[638632 rows x 2 columns]"
      ]
     },
     "execution_count": 16,
     "metadata": {},
     "output_type": "execute_result"
    }
   ],
   "source": [
    "data_gen"
   ]
  },
  {
   "cell_type": "code",
   "execution_count": 17,
   "id": "d21cd03c",
   "metadata": {
    "scrolled": true
   },
   "outputs": [],
   "source": [
    "data_act= pd.read_csv(\"../raw_data/actors.csv\")"
   ]
  },
  {
   "cell_type": "code",
   "execution_count": 18,
   "id": "e4668b23",
   "metadata": {},
   "outputs": [],
   "source": [
    "data_act=data_act.groupby('id').agg({'name': ', '.join}).reset_index()"
   ]
  },
  {
   "cell_type": "code",
   "execution_count": 19,
   "id": "5dc5122d",
   "metadata": {
    "scrolled": true
   },
   "outputs": [
    {
     "data": {
      "text/html": [
       "<div>\n",
       "<style scoped>\n",
       "    .dataframe tbody tr th:only-of-type {\n",
       "        vertical-align: middle;\n",
       "    }\n",
       "\n",
       "    .dataframe tbody tr th {\n",
       "        vertical-align: top;\n",
       "    }\n",
       "\n",
       "    .dataframe thead th {\n",
       "        text-align: right;\n",
       "    }\n",
       "</style>\n",
       "<table border=\"1\" class=\"dataframe\">\n",
       "  <thead>\n",
       "    <tr style=\"text-align: right;\">\n",
       "      <th></th>\n",
       "      <th>id</th>\n",
       "      <th>name</th>\n",
       "    </tr>\n",
       "  </thead>\n",
       "  <tbody>\n",
       "    <tr>\n",
       "      <th>0</th>\n",
       "      <td>1000001</td>\n",
       "      <td>Margot Robbie, Lewis Easter, Onyemachi Ejimofo...</td>\n",
       "    </tr>\n",
       "    <tr>\n",
       "      <th>1</th>\n",
       "      <td>1000002</td>\n",
       "      <td>Rosie Peralta, Anna Elisabeth Rihlmann, Andrea...</td>\n",
       "    </tr>\n",
       "    <tr>\n",
       "      <th>2</th>\n",
       "      <td>1000003</td>\n",
       "      <td>Randall Archer, Boon Pin Koh, Efka Kvaraciejus...</td>\n",
       "    </tr>\n",
       "    <tr>\n",
       "      <th>3</th>\n",
       "      <td>1000004</td>\n",
       "      <td>Leonard Termo, Greg Bronson, Michael Arturo, M...</td>\n",
       "    </tr>\n",
       "    <tr>\n",
       "      <th>4</th>\n",
       "      <td>1000005</td>\n",
       "      <td>Lena Georgas, Jeff Hephner, Elyes Gabel, Brook...</td>\n",
       "    </tr>\n",
       "    <tr>\n",
       "      <th>...</th>\n",
       "      <td>...</td>\n",
       "      <td>...</td>\n",
       "    </tr>\n",
       "    <tr>\n",
       "      <th>603158</th>\n",
       "      <td>1896377</td>\n",
       "      <td>Marat Basharov, Sergey Rost, Gleb Kalyuzhny, S...</td>\n",
       "    </tr>\n",
       "    <tr>\n",
       "      <th>603159</th>\n",
       "      <td>1896382</td>\n",
       "      <td>Marine Petrosyan</td>\n",
       "    </tr>\n",
       "    <tr>\n",
       "      <th>603160</th>\n",
       "      <td>1896387</td>\n",
       "      <td>Rebecca Jim</td>\n",
       "    </tr>\n",
       "    <tr>\n",
       "      <th>603161</th>\n",
       "      <td>1896391</td>\n",
       "      <td>Ko Shibasaki</td>\n",
       "    </tr>\n",
       "    <tr>\n",
       "      <th>603162</th>\n",
       "      <td>1896393</td>\n",
       "      <td>Atsuhiro Inukai</td>\n",
       "    </tr>\n",
       "  </tbody>\n",
       "</table>\n",
       "<p>603163 rows × 2 columns</p>\n",
       "</div>"
      ],
      "text/plain": [
       "             id                                               name\n",
       "0       1000001  Margot Robbie, Lewis Easter, Onyemachi Ejimofo...\n",
       "1       1000002  Rosie Peralta, Anna Elisabeth Rihlmann, Andrea...\n",
       "2       1000003  Randall Archer, Boon Pin Koh, Efka Kvaraciejus...\n",
       "3       1000004  Leonard Termo, Greg Bronson, Michael Arturo, M...\n",
       "4       1000005  Lena Georgas, Jeff Hephner, Elyes Gabel, Brook...\n",
       "...         ...                                                ...\n",
       "603158  1896377  Marat Basharov, Sergey Rost, Gleb Kalyuzhny, S...\n",
       "603159  1896382                                   Marine Petrosyan\n",
       "603160  1896387                                        Rebecca Jim\n",
       "603161  1896391                                       Ko Shibasaki\n",
       "603162  1896393                                    Atsuhiro Inukai\n",
       "\n",
       "[603163 rows x 2 columns]"
      ]
     },
     "execution_count": 19,
     "metadata": {},
     "output_type": "execute_result"
    }
   ],
   "source": [
    "data_act"
   ]
  },
  {
   "cell_type": "code",
   "execution_count": 20,
   "id": "4017c351",
   "metadata": {},
   "outputs": [],
   "source": [
    "data_them= pd.read_csv(\"../raw_data/themes.csv\")"
   ]
  },
  {
   "cell_type": "code",
   "execution_count": 21,
   "id": "dc51871b",
   "metadata": {},
   "outputs": [],
   "source": [
    "data_them=data_them.groupby('id').agg({'theme': ', '.join}).reset_index()"
   ]
  },
  {
   "cell_type": "code",
   "execution_count": 22,
   "id": "cf437a1e",
   "metadata": {},
   "outputs": [
    {
     "data": {
      "text/html": [
       "<div>\n",
       "<style scoped>\n",
       "    .dataframe tbody tr th:only-of-type {\n",
       "        vertical-align: middle;\n",
       "    }\n",
       "\n",
       "    .dataframe tbody tr th {\n",
       "        vertical-align: top;\n",
       "    }\n",
       "\n",
       "    .dataframe thead th {\n",
       "        text-align: right;\n",
       "    }\n",
       "</style>\n",
       "<table border=\"1\" class=\"dataframe\">\n",
       "  <thead>\n",
       "    <tr style=\"text-align: right;\">\n",
       "      <th></th>\n",
       "      <th>id</th>\n",
       "      <th>theme</th>\n",
       "    </tr>\n",
       "  </thead>\n",
       "  <tbody>\n",
       "    <tr>\n",
       "      <th>0</th>\n",
       "      <td>1000001</td>\n",
       "      <td>Relationship comedy, Song and dance, Crude hum...</td>\n",
       "    </tr>\n",
       "    <tr>\n",
       "      <th>1</th>\n",
       "      <td>1000002</td>\n",
       "      <td>Gripping, intense violent crime, Enduring stor...</td>\n",
       "    </tr>\n",
       "    <tr>\n",
       "      <th>2</th>\n",
       "      <td>1000003</td>\n",
       "      <td>Funny jokes and crude humor, Tragic sadness an...</td>\n",
       "    </tr>\n",
       "    <tr>\n",
       "      <th>3</th>\n",
       "      <td>1000004</td>\n",
       "      <td>Graphic violence and brutal revenge, Challengi...</td>\n",
       "    </tr>\n",
       "    <tr>\n",
       "      <th>4</th>\n",
       "      <td>1000005</td>\n",
       "      <td>Monsters, aliens, sci-fi and the apocalypse, I...</td>\n",
       "    </tr>\n",
       "    <tr>\n",
       "      <th>...</th>\n",
       "      <td>...</td>\n",
       "      <td>...</td>\n",
       "    </tr>\n",
       "    <tr>\n",
       "      <th>24070</th>\n",
       "      <td>1674936</td>\n",
       "      <td>Noir and dark crime dramas, Bollywood emotiona...</td>\n",
       "    </tr>\n",
       "    <tr>\n",
       "      <th>24071</th>\n",
       "      <td>1679890</td>\n",
       "      <td>Song and dance, Dazzling vocal performances an...</td>\n",
       "    </tr>\n",
       "    <tr>\n",
       "      <th>24072</th>\n",
       "      <td>1734496</td>\n",
       "      <td>Suspenseful crime thrillers, Noir and dark cri...</td>\n",
       "    </tr>\n",
       "    <tr>\n",
       "      <th>24073</th>\n",
       "      <td>1776141</td>\n",
       "      <td>Bollywood emotional dramas, Noir and dark crim...</td>\n",
       "    </tr>\n",
       "    <tr>\n",
       "      <th>24074</th>\n",
       "      <td>1875153</td>\n",
       "      <td>Fascinating, emotional stories and documentari...</td>\n",
       "    </tr>\n",
       "  </tbody>\n",
       "</table>\n",
       "<p>24075 rows × 2 columns</p>\n",
       "</div>"
      ],
      "text/plain": [
       "            id                                              theme\n",
       "0      1000001  Relationship comedy, Song and dance, Crude hum...\n",
       "1      1000002  Gripping, intense violent crime, Enduring stor...\n",
       "2      1000003  Funny jokes and crude humor, Tragic sadness an...\n",
       "3      1000004  Graphic violence and brutal revenge, Challengi...\n",
       "4      1000005  Monsters, aliens, sci-fi and the apocalypse, I...\n",
       "...        ...                                                ...\n",
       "24070  1674936  Noir and dark crime dramas, Bollywood emotiona...\n",
       "24071  1679890  Song and dance, Dazzling vocal performances an...\n",
       "24072  1734496  Suspenseful crime thrillers, Noir and dark cri...\n",
       "24073  1776141  Bollywood emotional dramas, Noir and dark crim...\n",
       "24074  1875153  Fascinating, emotional stories and documentari...\n",
       "\n",
       "[24075 rows x 2 columns]"
      ]
     },
     "execution_count": 22,
     "metadata": {},
     "output_type": "execute_result"
    }
   ],
   "source": [
    "data_them"
   ]
  },
  {
   "cell_type": "markdown",
   "id": "e7c7876b",
   "metadata": {},
   "source": [
    "### Merge data"
   ]
  },
  {
   "cell_type": "code",
   "execution_count": 23,
   "id": "ccc78799",
   "metadata": {},
   "outputs": [],
   "source": [
    "df=data.merge(data_gen, on=\"id\", how=\"left\")"
   ]
  },
  {
   "cell_type": "code",
   "execution_count": 24,
   "id": "3d6f029a",
   "metadata": {},
   "outputs": [],
   "source": [
    "df=df.merge(data_act, on=\"id\", how=\"left\")"
   ]
  },
  {
   "cell_type": "code",
   "execution_count": 25,
   "id": "661ff8a8",
   "metadata": {},
   "outputs": [],
   "source": [
    "movies=df.merge(data_them, on=\"id\", how=\"left\")"
   ]
  },
  {
   "cell_type": "code",
   "execution_count": 26,
   "id": "fcc148a4",
   "metadata": {},
   "outputs": [
    {
     "name": "stdout",
     "output_type": "stream",
     "text": [
      "<class 'pandas.core.frame.DataFrame'>\n",
      "RangeIndex: 84681 entries, 0 to 84680\n",
      "Data columns (total 9 columns):\n",
      " #   Column       Non-Null Count  Dtype  \n",
      "---  ------       --------------  -----  \n",
      " 0   id           84681 non-null  int64  \n",
      " 1   name_x       84681 non-null  object \n",
      " 2   date         84681 non-null  float64\n",
      " 3   description  84681 non-null  object \n",
      " 4   minute       84681 non-null  float64\n",
      " 5   rating       84681 non-null  float64\n",
      " 6   genre        83358 non-null  object \n",
      " 7   name_y       80469 non-null  object \n",
      " 8   theme        23014 non-null  object \n",
      "dtypes: float64(3), int64(1), object(5)\n",
      "memory usage: 5.8+ MB\n"
     ]
    }
   ],
   "source": [
    "movies.info()"
   ]
  },
  {
   "cell_type": "code",
   "execution_count": 27,
   "id": "af8f8686",
   "metadata": {},
   "outputs": [
    {
     "data": {
      "text/html": [
       "<div>\n",
       "<style scoped>\n",
       "    .dataframe tbody tr th:only-of-type {\n",
       "        vertical-align: middle;\n",
       "    }\n",
       "\n",
       "    .dataframe tbody tr th {\n",
       "        vertical-align: top;\n",
       "    }\n",
       "\n",
       "    .dataframe thead th {\n",
       "        text-align: right;\n",
       "    }\n",
       "</style>\n",
       "<table border=\"1\" class=\"dataframe\">\n",
       "  <thead>\n",
       "    <tr style=\"text-align: right;\">\n",
       "      <th></th>\n",
       "      <th>id</th>\n",
       "      <th>name_x</th>\n",
       "      <th>date</th>\n",
       "      <th>description</th>\n",
       "      <th>minute</th>\n",
       "      <th>rating</th>\n",
       "      <th>genre</th>\n",
       "      <th>name_y</th>\n",
       "      <th>theme</th>\n",
       "    </tr>\n",
       "  </thead>\n",
       "  <tbody>\n",
       "    <tr>\n",
       "      <th>0</th>\n",
       "      <td>1000001</td>\n",
       "      <td>Barbie</td>\n",
       "      <td>2023.0</td>\n",
       "      <td>Barbie and Ken are having the time of their li...</td>\n",
       "      <td>114.0</td>\n",
       "      <td>3.91</td>\n",
       "      <td>Comedy, Fantasy, Adventure</td>\n",
       "      <td>Margot Robbie, Lewis Easter, Onyemachi Ejimofo...</td>\n",
       "      <td>Relationship comedy, Song and dance, Crude hum...</td>\n",
       "    </tr>\n",
       "    <tr>\n",
       "      <th>1</th>\n",
       "      <td>1000002</td>\n",
       "      <td>Parasite</td>\n",
       "      <td>2019.0</td>\n",
       "      <td>All unemployed, Ki-taek's family takes peculia...</td>\n",
       "      <td>133.0</td>\n",
       "      <td>4.57</td>\n",
       "      <td>Comedy, Thriller, Drama</td>\n",
       "      <td>Rosie Peralta, Anna Elisabeth Rihlmann, Andrea...</td>\n",
       "      <td>Gripping, intense violent crime, Enduring stor...</td>\n",
       "    </tr>\n",
       "    <tr>\n",
       "      <th>2</th>\n",
       "      <td>1000003</td>\n",
       "      <td>Everything Everywhere All at Once</td>\n",
       "      <td>2022.0</td>\n",
       "      <td>An aging Chinese immigrant is swept up in an i...</td>\n",
       "      <td>140.0</td>\n",
       "      <td>4.32</td>\n",
       "      <td>Science Fiction, Action, Adventure</td>\n",
       "      <td>Randall Archer, Boon Pin Koh, Efka Kvaraciejus...</td>\n",
       "      <td>Funny jokes and crude humor, Tragic sadness an...</td>\n",
       "    </tr>\n",
       "    <tr>\n",
       "      <th>3</th>\n",
       "      <td>1000004</td>\n",
       "      <td>Fight Club</td>\n",
       "      <td>1999.0</td>\n",
       "      <td>A ticking-time-bomb insomniac and a slippery s...</td>\n",
       "      <td>139.0</td>\n",
       "      <td>4.27</td>\n",
       "      <td>Drama</td>\n",
       "      <td>Leonard Termo, Greg Bronson, Michael Arturo, M...</td>\n",
       "      <td>Graphic violence and brutal revenge, Challengi...</td>\n",
       "    </tr>\n",
       "    <tr>\n",
       "      <th>4</th>\n",
       "      <td>1000005</td>\n",
       "      <td>Interstellar</td>\n",
       "      <td>2014.0</td>\n",
       "      <td>The adventures of a group of explorers who mak...</td>\n",
       "      <td>169.0</td>\n",
       "      <td>4.32</td>\n",
       "      <td>Science Fiction, Drama, Adventure</td>\n",
       "      <td>Lena Georgas, Jeff Hephner, Elyes Gabel, Brook...</td>\n",
       "      <td>Monsters, aliens, sci-fi and the apocalypse, I...</td>\n",
       "    </tr>\n",
       "    <tr>\n",
       "      <th>...</th>\n",
       "      <td>...</td>\n",
       "      <td>...</td>\n",
       "      <td>...</td>\n",
       "      <td>...</td>\n",
       "      <td>...</td>\n",
       "      <td>...</td>\n",
       "      <td>...</td>\n",
       "      <td>...</td>\n",
       "      <td>...</td>\n",
       "    </tr>\n",
       "    <tr>\n",
       "      <th>84676</th>\n",
       "      <td>1153294</td>\n",
       "      <td>Los Angeles/Tehran</td>\n",
       "      <td>2018.0</td>\n",
       "      <td>Make the following sentences with the followin...</td>\n",
       "      <td>90.0</td>\n",
       "      <td>2.24</td>\n",
       "      <td>Comedy</td>\n",
       "      <td>Parviz Parastouei, Mahnaz Afshar, Gohar Kheyra...</td>\n",
       "      <td>NaN</td>\n",
       "    </tr>\n",
       "    <tr>\n",
       "      <th>84677</th>\n",
       "      <td>1154616</td>\n",
       "      <td>Kutti Puli</td>\n",
       "      <td>2013.0</td>\n",
       "      <td>After losing her husband at a young age, Deiva...</td>\n",
       "      <td>150.0</td>\n",
       "      <td>2.89</td>\n",
       "      <td>Action, Thriller</td>\n",
       "      <td>G. Gnanasambandam, Raja Simman, Balasaravanan,...</td>\n",
       "      <td>NaN</td>\n",
       "    </tr>\n",
       "    <tr>\n",
       "      <th>84678</th>\n",
       "      <td>1156023</td>\n",
       "      <td>To Steal a Thief</td>\n",
       "      <td>1996.0</td>\n",
       "      <td>Roger is a failed petty criminal living in Sto...</td>\n",
       "      <td>93.0</td>\n",
       "      <td>2.94</td>\n",
       "      <td>Comedy, Crime</td>\n",
       "      <td>Eva Dahlman, Agneta Guldberg, Per-Erik Bergqui...</td>\n",
       "      <td>NaN</td>\n",
       "    </tr>\n",
       "    <tr>\n",
       "      <th>84679</th>\n",
       "      <td>1156596</td>\n",
       "      <td>Samurai In Berlin</td>\n",
       "      <td>2019.0</td>\n",
       "      <td>The Samurai Movie in Berlin is a comedy film a...</td>\n",
       "      <td>120.0</td>\n",
       "      <td>2.31</td>\n",
       "      <td>NaN</td>\n",
       "      <td>Hamid Farrokhnejad, Amir Mahdi Jule</td>\n",
       "      <td>NaN</td>\n",
       "    </tr>\n",
       "    <tr>\n",
       "      <th>84680</th>\n",
       "      <td>1158774</td>\n",
       "      <td>As Seen On Tv</td>\n",
       "      <td>2001.0</td>\n",
       "      <td>Alexander is a talk show host on TV and a part...</td>\n",
       "      <td>101.0</td>\n",
       "      <td>3.16</td>\n",
       "      <td>Comedy</td>\n",
       "      <td>Cecilia Frode, Anna Carlsten, Magnus Härenstam...</td>\n",
       "      <td>NaN</td>\n",
       "    </tr>\n",
       "  </tbody>\n",
       "</table>\n",
       "<p>84681 rows × 9 columns</p>\n",
       "</div>"
      ],
      "text/plain": [
       "            id                             name_x    date  \\\n",
       "0      1000001                             Barbie  2023.0   \n",
       "1      1000002                           Parasite  2019.0   \n",
       "2      1000003  Everything Everywhere All at Once  2022.0   \n",
       "3      1000004                         Fight Club  1999.0   \n",
       "4      1000005                       Interstellar  2014.0   \n",
       "...        ...                                ...     ...   \n",
       "84676  1153294                 Los Angeles/Tehran  2018.0   \n",
       "84677  1154616                         Kutti Puli  2013.0   \n",
       "84678  1156023                   To Steal a Thief  1996.0   \n",
       "84679  1156596                  Samurai In Berlin  2019.0   \n",
       "84680  1158774                      As Seen On Tv  2001.0   \n",
       "\n",
       "                                             description  minute  rating  \\\n",
       "0      Barbie and Ken are having the time of their li...   114.0    3.91   \n",
       "1      All unemployed, Ki-taek's family takes peculia...   133.0    4.57   \n",
       "2      An aging Chinese immigrant is swept up in an i...   140.0    4.32   \n",
       "3      A ticking-time-bomb insomniac and a slippery s...   139.0    4.27   \n",
       "4      The adventures of a group of explorers who mak...   169.0    4.32   \n",
       "...                                                  ...     ...     ...   \n",
       "84676  Make the following sentences with the followin...    90.0    2.24   \n",
       "84677  After losing her husband at a young age, Deiva...   150.0    2.89   \n",
       "84678  Roger is a failed petty criminal living in Sto...    93.0    2.94   \n",
       "84679  The Samurai Movie in Berlin is a comedy film a...   120.0    2.31   \n",
       "84680  Alexander is a talk show host on TV and a part...   101.0    3.16   \n",
       "\n",
       "                                    genre  \\\n",
       "0              Comedy, Fantasy, Adventure   \n",
       "1                 Comedy, Thriller, Drama   \n",
       "2      Science Fiction, Action, Adventure   \n",
       "3                                   Drama   \n",
       "4       Science Fiction, Drama, Adventure   \n",
       "...                                   ...   \n",
       "84676                              Comedy   \n",
       "84677                    Action, Thriller   \n",
       "84678                       Comedy, Crime   \n",
       "84679                                 NaN   \n",
       "84680                              Comedy   \n",
       "\n",
       "                                                  name_y  \\\n",
       "0      Margot Robbie, Lewis Easter, Onyemachi Ejimofo...   \n",
       "1      Rosie Peralta, Anna Elisabeth Rihlmann, Andrea...   \n",
       "2      Randall Archer, Boon Pin Koh, Efka Kvaraciejus...   \n",
       "3      Leonard Termo, Greg Bronson, Michael Arturo, M...   \n",
       "4      Lena Georgas, Jeff Hephner, Elyes Gabel, Brook...   \n",
       "...                                                  ...   \n",
       "84676  Parviz Parastouei, Mahnaz Afshar, Gohar Kheyra...   \n",
       "84677  G. Gnanasambandam, Raja Simman, Balasaravanan,...   \n",
       "84678  Eva Dahlman, Agneta Guldberg, Per-Erik Bergqui...   \n",
       "84679                Hamid Farrokhnejad, Amir Mahdi Jule   \n",
       "84680  Cecilia Frode, Anna Carlsten, Magnus Härenstam...   \n",
       "\n",
       "                                                   theme  \n",
       "0      Relationship comedy, Song and dance, Crude hum...  \n",
       "1      Gripping, intense violent crime, Enduring stor...  \n",
       "2      Funny jokes and crude humor, Tragic sadness an...  \n",
       "3      Graphic violence and brutal revenge, Challengi...  \n",
       "4      Monsters, aliens, sci-fi and the apocalypse, I...  \n",
       "...                                                  ...  \n",
       "84676                                                NaN  \n",
       "84677                                                NaN  \n",
       "84678                                                NaN  \n",
       "84679                                                NaN  \n",
       "84680                                                NaN  \n",
       "\n",
       "[84681 rows x 9 columns]"
      ]
     },
     "execution_count": 27,
     "metadata": {},
     "output_type": "execute_result"
    }
   ],
   "source": [
    "movies"
   ]
  },
  {
   "cell_type": "code",
   "execution_count": 29,
   "id": "196980a4",
   "metadata": {},
   "outputs": [],
   "source": [
    "movies.columns=[\"id\", \"Title\", \"Year\", \"Description\",\"Minutes\", \"Rating\", \"Genre\", \"Actors\", \"Theme\"]"
   ]
  },
  {
   "cell_type": "code",
   "execution_count": 30,
   "id": "34839ab7",
   "metadata": {},
   "outputs": [
    {
     "data": {
      "text/plain": [
       "0"
      ]
     },
     "execution_count": 30,
     "metadata": {},
     "output_type": "execute_result"
    }
   ],
   "source": [
    "movies.duplicated().sum()"
   ]
  },
  {
   "cell_type": "code",
   "execution_count": 31,
   "id": "4a565879",
   "metadata": {},
   "outputs": [
    {
     "data": {
      "text/plain": [
       "Theme          61667\n",
       "Actors          4212\n",
       "Genre           1323\n",
       "id                 0\n",
       "Title              0\n",
       "Minutes            0\n",
       "Description        0\n",
       "Year               0\n",
       "Rating             0\n",
       "dtype: int64"
      ]
     },
     "execution_count": 31,
     "metadata": {},
     "output_type": "execute_result"
    }
   ],
   "source": [
    "movies.isnull().sum().sort_values(ascending=False)"
   ]
  },
  {
   "cell_type": "code",
   "execution_count": 32,
   "id": "253aac31",
   "metadata": {},
   "outputs": [],
   "source": [
    "movies.dropna(subset=['Theme'], inplace= True) #Delete null\n",
    "movies.dropna(subset=['Actors'], inplace= True)\n",
    "movies.dropna(subset=['Genre'], inplace= True)"
   ]
  },
  {
   "cell_type": "code",
   "execution_count": 33,
   "id": "7100b6be",
   "metadata": {},
   "outputs": [
    {
     "name": "stdout",
     "output_type": "stream",
     "text": [
      "<class 'pandas.core.frame.DataFrame'>\n",
      "Index: 22923 entries, 0 to 84620\n",
      "Data columns (total 9 columns):\n",
      " #   Column       Non-Null Count  Dtype  \n",
      "---  ------       --------------  -----  \n",
      " 0   id           22923 non-null  int64  \n",
      " 1   Title        22923 non-null  object \n",
      " 2   Year         22923 non-null  float64\n",
      " 3   Description  22923 non-null  object \n",
      " 4   Minutes      22923 non-null  float64\n",
      " 5   Rating       22923 non-null  float64\n",
      " 6   Genre        22923 non-null  object \n",
      " 7   Actors       22923 non-null  object \n",
      " 8   Theme        22923 non-null  object \n",
      "dtypes: float64(3), int64(1), object(5)\n",
      "memory usage: 1.7+ MB\n"
     ]
    }
   ],
   "source": [
    "movies.info()"
   ]
  },
  {
   "cell_type": "code",
   "execution_count": 34,
   "id": "d0ec6971",
   "metadata": {},
   "outputs": [
    {
     "ename": "",
     "evalue": "",
     "output_type": "error",
     "traceback": [
      "\u001b[1;31mEl kernel se bloqueó al ejecutar código en la celda actual o en una celda anterior. \n",
      "\u001b[1;31mRevise el código de las celdas para identificar una posible causa del error. \n",
      "\u001b[1;31mHaga clic <a href='https://aka.ms/vscodeJupyterKernelCrash'>aquí</a> para obtener más información. \n",
      "\u001b[1;31mVea Jupyter <a href='command:jupyter.viewOutput'>log</a> para obtener más detalles."
     ]
    }
   ],
   "source": [
    "movies.to_csv('../raw_data/movies_data.csv', index=False)"
   ]
  }
 ],
 "metadata": {
  "kernelspec": {
   "display_name": "Python 3 (ipykernel)",
   "language": "python",
   "name": "python3"
  },
  "language_info": {
   "codemirror_mode": {
    "name": "ipython",
    "version": 3
   },
   "file_extension": ".py",
   "mimetype": "text/x-python",
   "name": "python",
   "nbconvert_exporter": "python",
   "pygments_lexer": "ipython3",
   "version": "3.10.6"
  },
  "toc": {
   "base_numbering": 1,
   "nav_menu": {},
   "number_sections": true,
   "sideBar": true,
   "skip_h1_title": false,
   "title_cell": "Table of Contents",
   "title_sidebar": "Contents",
   "toc_cell": false,
   "toc_position": {},
   "toc_section_display": true,
   "toc_window_display": false
  }
 },
 "nbformat": 4,
 "nbformat_minor": 5
}
