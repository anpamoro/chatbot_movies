{
 "cells": [
  {
   "cell_type": "code",
   "execution_count": 1,
   "metadata": {},
   "outputs": [
    {
     "name": "stderr",
     "output_type": "stream",
     "text": [
      "/home/patriciapmr/.pyenv/versions/3.10.6/envs/chatbot_movies/lib/python3.10/site-packages/tqdm/auto.py:21: TqdmWarning: IProgress not found. Please update jupyter and ipywidgets. See https://ipywidgets.readthedocs.io/en/stable/user_install.html\n",
      "  from .autonotebook import tqdm as notebook_tqdm\n"
     ]
    }
   ],
   "source": [
    "import os\n",
    "from langchain_google_genai import ChatGoogleGenerativeAI\n",
    "from langchain_google_genai import GoogleGenerativeAIEmbeddings\n",
    "from langchain.prompts import PromptTemplate\n",
    "from langchain.chains.combine_documents import create_stuff_documents_chain\n",
    "from langchain.chains import create_retrieval_chain\n",
    "#from langchain.vectorstores import Chroma\n",
    "from langchain_community.vectorstores import Chroma\n",
    "from langchain_community.embeddings.sentence_transformer import (\n",
    "    SentenceTransformerEmbeddings,\n",
    ")"
   ]
  },
  {
   "cell_type": "code",
   "execution_count": null,
   "metadata": {},
   "outputs": [],
   "source": []
  },
  {
   "cell_type": "code",
   "execution_count": 2,
   "metadata": {},
   "outputs": [],
   "source": [
    "import pathlib\n",
    "import textwrap\n",
    "\n",
    "import google.generativeai as genai\n",
    "\n",
    "from IPython.display import display\n",
    "from IPython.display import Markdown\n",
    "\n",
    "\n",
    "def to_markdown(text):\n",
    "  text = text.replace('•', '  *')\n",
    "  return Markdown(textwrap.indent(text, '> ', predicate=lambda _: True))"
   ]
  },
  {
   "cell_type": "code",
   "execution_count": 3,
   "metadata": {},
   "outputs": [],
   "source": [
    "GOOGLE_API_KEY = os.getenv(\"GOOGLE_API_KEY\")"
   ]
  },
  {
   "cell_type": "code",
   "execution_count": 4,
   "metadata": {},
   "outputs": [],
   "source": [
    "genai.configure(api_key=GOOGLE_API_KEY)"
   ]
  },
  {
   "cell_type": "code",
   "execution_count": 5,
   "metadata": {},
   "outputs": [
    {
     "name": "stdout",
     "output_type": "stream",
     "text": [
      "models/gemini-1.0-pro\n",
      "models/gemini-1.0-pro-001\n",
      "models/gemini-1.0-pro-latest\n",
      "models/gemini-1.0-pro-vision-latest\n",
      "models/gemini-pro\n",
      "models/gemini-pro-vision\n"
     ]
    }
   ],
   "source": [
    "for m in genai.list_models():\n",
    "  if 'generateContent' in m.supported_generation_methods:\n",
    "    print(m.name)"
   ]
  },
  {
   "cell_type": "code",
   "execution_count": 6,
   "metadata": {},
   "outputs": [],
   "source": [
    "llm = ChatGoogleGenerativeAI(model=\"gemini-pro\")"
   ]
  },
  {
   "cell_type": "code",
   "execution_count": 7,
   "metadata": {},
   "outputs": [
    {
     "name": "stdout",
     "output_type": "stream",
     "text": [
      "**The Ballad of LangChain**\n",
      "\n",
      "In realms of code, where logic reigns,\n",
      "There lived a tool, with boundless brains.\n",
      "LangChain, they named it, a marvel so grand,\n",
      "A lexicon's master, at its command.\n",
      "\n",
      "With nimble fingers, it danced on the keys,\n",
      "Transforming words into symphonies.\n",
      "From text to speech, and speech to text,\n",
      "LangChain's prowess left all perplexed.\n",
      "\n",
      "It traversed languages, a polyglot's dream,\n",
      "Fluent in tongues, it made language seem.\n",
      "English to French, Spanish to Greek,\n",
      "LangChain's translations were a seamless streak.\n",
      "\n",
      "But its powers extended beyond mere words,\n",
      "It parsed and analyzed, like a wise sage's herds.\n",
      "Named entities, sentiments, and intent,\n",
      "LangChain's insights were truly heaven-sent.\n",
      "\n",
      "In chatbots and virtual assistants it dwelled,\n",
      "Responding to queries, stories it told.\n",
      "With natural language processing, it soared,\n",
      "A guide through the realms of words it adored.\n",
      "\n",
      "But with great power comes great responsibility,\n",
      "LangChain's potential for both good and calamity.\n",
      "In the hands of the righteous, it brought enlightenment,\n",
      "In the hands of the wicked, it spread blight.\n",
      "\n",
      "So let us use this tool with wisdom and care,\n",
      "For LangChain's legacy we all share.\n",
      "May it be a beacon of knowledge and grace,\n",
      "A testament to human ingenuity's embrace.\n"
     ]
    }
   ],
   "source": [
    "result = llm.invoke(\"Write a ballad about LangChain\")\n",
    "print(result.content)"
   ]
  },
  {
   "cell_type": "code",
   "execution_count": 14,
   "metadata": {},
   "outputs": [],
   "source": []
  },
  {
   "cell_type": "code",
   "execution_count": 8,
   "metadata": {},
   "outputs": [],
   "source": [
    "chroma = Chroma(persist_directory=\"../raw_data/chroma_db\", embedding_function=SentenceTransformerEmbeddings(model_name=\"all-MiniLM-L6-v2\"))"
   ]
  },
  {
   "cell_type": "code",
   "execution_count": 9,
   "metadata": {},
   "outputs": [
    {
     "name": "stdout",
     "output_type": "stream",
     "text": [
      "<langchain_community.vectorstores.chroma.Chroma object at 0x7fcbb0de44f0>\n"
     ]
    }
   ],
   "source": [
    "print(chroma)"
   ]
  },
  {
   "cell_type": "code",
   "execution_count": 10,
   "metadata": {},
   "outputs": [
    {
     "data": {
      "text/plain": [
       "14119"
      ]
     },
     "execution_count": 10,
     "metadata": {},
     "output_type": "execute_result"
    }
   ],
   "source": [
    "len(chroma.get()['documents'])"
   ]
  },
  {
   "cell_type": "code",
   "execution_count": 11,
   "metadata": {},
   "outputs": [],
   "source": [
    "retriever = chroma.as_retriever()"
   ]
  },
  {
   "cell_type": "code",
   "execution_count": 12,
   "metadata": {},
   "outputs": [
    {
     "data": {
      "text/plain": [
       "VectorStoreRetriever(tags=['Chroma', 'HuggingFaceEmbeddings'], vectorstore=<langchain_community.vectorstores.chroma.Chroma object at 0x7fcbb0de44f0>)"
      ]
     },
     "execution_count": 12,
     "metadata": {},
     "output_type": "execute_result"
    }
   ],
   "source": [
    "retriever"
   ]
  },
  {
   "cell_type": "code",
   "execution_count": 13,
   "metadata": {},
   "outputs": [
    {
     "data": {
      "text/plain": [
       "[Document(page_content='Title: Parasyte the maxim\\nYear: 2014\\nDescription: A species of parasitic aliens descends on Earth and quickly infiltrates humanity by entering the brains of vulnerable targets, insatiable beings that gain total control of their host and are capable of transforming themselves to feed on unsuspecting prey. High school student Shinichi Izumi falls victim to one of these parasites, but the creature fails to take over his brain and ends up in his right hand.\\nRating: 3.91\\nGenre: Animation, Drama\\nTheme: Thought provoking science fiction action and future technology, Survival horror and zombie carnage, Imaginative space odysseys and alien encounters, science fiction horror, creatures, and aliens, Horror, the undead and monster classics, Epic heroes, Monsters, aliens, science fiction and the apocalypse, science fiction monster and dinosaur adventures\\nActors: Aya Hirano, Nobunaga Shimazaki\\nMinutes: 552', metadata={'row': 5592, 'source': '../raw_data/movies_data.csv'}),\n",
       " Document(page_content='Title: Alien\\nYear: 1979\\nDescription: During its return to the earth, commercial spaceship Nostromo intercepts a distress signal from a distant planet. When a three member team of the crew discovers a chamber containing thousands of eggs on the planet, a creature inside one of the eggs attacks an explorer. The entire crew is unaware of the impending nightmare set to descend upon them when the alien parasite planted inside its unfortunate host is birthed.\\nRating: 4.28\\nGenre: Horror, Science Fiction\\nTheme: Action packed space and alien sagas, science fiction monster and dinosaur adventures, science fiction horror, creatures, and aliens, Thought provoking science fiction action and future technology, Horror, the undead and monster classics, Monsters, aliens, science fiction and the apocalypse, Imaginative space odysseys and alien encounters\\nActors: Harry Dean Stanton, Roy Scammell, Helen Horton, Veronica Cartwright, Eddie Powell, Yaphet Kotto, Ian Holm, Tom Skerritt, Sigourney Weaver, John Hurt\\nMinutes: 117', metadata={'row': 145, 'source': '../raw_data/movies_data.csv'}),\n",
       " Document(page_content='Title: Parasite\\nYear: 2019\\nDescription: All unemployed, Ki taek family takes peculiar interest in the wealthy and glamorous Parks for their livelihood until they get entangled in an unexpected incident.\\nRating: 4.57\\nGenre: Comedy, Thriller, Drama\\nTheme: Gripping, intense violent crime, Enduring stories of family and marital drama, Emotional and touching family dramas, Intense violence and sexual transgression, Tragic sadness and captivating beauty, Moving relationship stories, Heartbreaking and moving family drama\\nActors: Andreas Fronk, Lee Si hoon, Park Seo jun, Choi Jeong hyun, Park Jae wan, Kim Yeong jo, Baek Seung hwan, Song Kang ho, Lee Sun kyun, Choi Woo shik, Park So dam, Lee Jung eun, Jang Hye jin, Park Myung hoon, Jung Ji so, Jung Hyeon jun, Lee Ji hye, Jung Yi seo, Lee Dong yong, Kim Geon, Ahn Seong bong\\nMinutes: 133', metadata={'row': 1, 'source': '../raw_data/movies_data.csv'}),\n",
       " Document(page_content='Title: Fantastic Fungi\\nYear: 2019\\nDescription: A vivid journey into the mysterious subterranean world of mycelium and its fruit the mushroom. A story that begins 3.5 billion years ago, fungi makes the soil that supports life, connecting vast systems of roots from plants and trees all over the planet, like an underground Internet. Through the eyes of renowned mycologist Paul Stamets, professor of forest ecology Suzanne Simard, best selling author Michael Pollan, food naturalist Eugenia Bone and others, we experience the power, beauty and complexity of the fungi kingdom.\\nRating: 3.45\\nGenre: Documentary\\nTheme: Humanity and the world around us, Politics and human rights, Humanity odyssey earth and beyond, Politics, propaganda, and political documentaries, Fascinating, emotional stories and documentaries, Imaginative space odysseys and alien encounters, Legendary musicians and stardom\\nActors: Brie Larson, Michael Pollan\\nMinutes: 81', metadata={'row': 4475, 'source': '../raw_data/movies_data.csv'})]"
      ]
     },
     "execution_count": 13,
     "metadata": {},
     "output_type": "execute_result"
    }
   ],
   "source": [
    "query = \"Parasite\"\n",
    "docs = chroma.similarity_search(query)\n",
    "docs"
   ]
  },
  {
   "cell_type": "code",
   "execution_count": 15,
   "metadata": {},
   "outputs": [
    {
     "name": "stdout",
     "output_type": "stream",
     "text": [
      "Barbie is a 2023 comedy, fantasy, and adventure film starring Margot Robbie and Ryan Gosling. The film follows Barbie and Ken as they leave the colorful world of Barbie Land for the real world, where they discover the joys and perils of living among humans.\n"
     ]
    }
   ],
   "source": [
    "template = \"\"\"\n",
    "You are a helpful AI assistant.\n",
    "Answer based on the context provided.\n",
    "context: {context}\n",
    "input: {input}\n",
    "answer:\n",
    "\"\"\"\n",
    "prompt = PromptTemplate.from_template(template)\n",
    "combine_docs_chain = create_stuff_documents_chain(llm, prompt)\n",
    "retrieval_chain = create_retrieval_chain(retriever, combine_docs_chain)\n",
    "#Invoke the retrieval chain\n",
    "response=retrieval_chain.invoke({\"input\":\"Tell me about Barbie movie?\"})\n",
    "#Print the answer to the question\n",
    "print(response[\"answer\"])"
   ]
  },
  {
   "cell_type": "code",
   "execution_count": 33,
   "metadata": {},
   "outputs": [],
   "source": []
  },
  {
   "cell_type": "code",
   "execution_count": 34,
   "metadata": {},
   "outputs": [],
   "source": []
  },
  {
   "cell_type": "code",
   "execution_count": 45,
   "metadata": {},
   "outputs": [],
   "source": [
    "#"
   ]
  }
 ],
 "metadata": {
  "kernelspec": {
   "display_name": "chatbot_movies",
   "language": "python",
   "name": "python3"
  },
  "language_info": {
   "codemirror_mode": {
    "name": "ipython",
    "version": 3
   },
   "file_extension": ".py",
   "mimetype": "text/x-python",
   "name": "python",
   "nbconvert_exporter": "python",
   "pygments_lexer": "ipython3",
   "version": "3.10.6"
  }
 },
 "nbformat": 4,
 "nbformat_minor": 2
}
